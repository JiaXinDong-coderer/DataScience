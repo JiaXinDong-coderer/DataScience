{
 "cells": [
  {
   "cell_type": "markdown",
   "id": "enabling-defeat",
   "metadata": {},
   "source": [
    "# CSE 351 Project - Titanic"
   ]
  },
  {
   "cell_type": "code",
   "execution_count": 1,
   "id": "dominant-solid",
   "metadata": {},
   "outputs": [],
   "source": [
    "import numpy as np\n",
    "import pandas as pd\n",
    "import matplotlib.pyplot as plt\n",
    "import seaborn as sns\n",
    "# ignore warning\n",
    "import warnings\n",
    "warnings.filterwarnings('ignore')"
   ]
  },
  {
   "cell_type": "markdown",
   "id": "military-stand",
   "metadata": {},
   "source": [
    "## Data Importation and Cleaning"
   ]
  },
  {
   "cell_type": "code",
   "execution_count": 2,
   "id": "mineral-yugoslavia",
   "metadata": {},
   "outputs": [],
   "source": [
    "# read from files\n",
    "df1 = pd.read_csv(\"data/train.csv\")\n",
    "df2 = pd.read_csv(\"data/test.csv\")"
   ]
  },
  {
   "cell_type": "code",
   "execution_count": 3,
   "id": "amber-vermont",
   "metadata": {
    "scrolled": true
   },
   "outputs": [
    {
     "data": {
      "text/html": [
       "<div>\n",
       "<style scoped>\n",
       "    .dataframe tbody tr th:only-of-type {\n",
       "        vertical-align: middle;\n",
       "    }\n",
       "\n",
       "    .dataframe tbody tr th {\n",
       "        vertical-align: top;\n",
       "    }\n",
       "\n",
       "    .dataframe thead th {\n",
       "        text-align: right;\n",
       "    }\n",
       "</style>\n",
       "<table border=\"1\" class=\"dataframe\">\n",
       "  <thead>\n",
       "    <tr style=\"text-align: right;\">\n",
       "      <th></th>\n",
       "      <th>PassengerId</th>\n",
       "      <th>Survived</th>\n",
       "      <th>Pclass</th>\n",
       "      <th>Name</th>\n",
       "      <th>Sex</th>\n",
       "      <th>Age</th>\n",
       "      <th>SibSp</th>\n",
       "      <th>Parch</th>\n",
       "      <th>Ticket</th>\n",
       "      <th>Fare</th>\n",
       "      <th>Cabin</th>\n",
       "      <th>Embarked</th>\n",
       "    </tr>\n",
       "  </thead>\n",
       "  <tbody>\n",
       "    <tr>\n",
       "      <th>0</th>\n",
       "      <td>1</td>\n",
       "      <td>0.0</td>\n",
       "      <td>3</td>\n",
       "      <td>Braund, Mr. Owen Harris</td>\n",
       "      <td>male</td>\n",
       "      <td>22.0</td>\n",
       "      <td>1</td>\n",
       "      <td>0</td>\n",
       "      <td>A/5 21171</td>\n",
       "      <td>7.2500</td>\n",
       "      <td>NaN</td>\n",
       "      <td>S</td>\n",
       "    </tr>\n",
       "    <tr>\n",
       "      <th>1</th>\n",
       "      <td>2</td>\n",
       "      <td>1.0</td>\n",
       "      <td>1</td>\n",
       "      <td>Cumings, Mrs. John Bradley (Florence Briggs Th...</td>\n",
       "      <td>female</td>\n",
       "      <td>38.0</td>\n",
       "      <td>1</td>\n",
       "      <td>0</td>\n",
       "      <td>PC 17599</td>\n",
       "      <td>71.2833</td>\n",
       "      <td>C85</td>\n",
       "      <td>C</td>\n",
       "    </tr>\n",
       "    <tr>\n",
       "      <th>2</th>\n",
       "      <td>3</td>\n",
       "      <td>1.0</td>\n",
       "      <td>3</td>\n",
       "      <td>Heikkinen, Miss. Laina</td>\n",
       "      <td>female</td>\n",
       "      <td>26.0</td>\n",
       "      <td>0</td>\n",
       "      <td>0</td>\n",
       "      <td>STON/O2. 3101282</td>\n",
       "      <td>7.9250</td>\n",
       "      <td>NaN</td>\n",
       "      <td>S</td>\n",
       "    </tr>\n",
       "    <tr>\n",
       "      <th>3</th>\n",
       "      <td>4</td>\n",
       "      <td>1.0</td>\n",
       "      <td>1</td>\n",
       "      <td>Futrelle, Mrs. Jacques Heath (Lily May Peel)</td>\n",
       "      <td>female</td>\n",
       "      <td>35.0</td>\n",
       "      <td>1</td>\n",
       "      <td>0</td>\n",
       "      <td>113803</td>\n",
       "      <td>53.1000</td>\n",
       "      <td>C123</td>\n",
       "      <td>S</td>\n",
       "    </tr>\n",
       "    <tr>\n",
       "      <th>4</th>\n",
       "      <td>5</td>\n",
       "      <td>0.0</td>\n",
       "      <td>3</td>\n",
       "      <td>Allen, Mr. William Henry</td>\n",
       "      <td>male</td>\n",
       "      <td>35.0</td>\n",
       "      <td>0</td>\n",
       "      <td>0</td>\n",
       "      <td>373450</td>\n",
       "      <td>8.0500</td>\n",
       "      <td>NaN</td>\n",
       "      <td>S</td>\n",
       "    </tr>\n",
       "  </tbody>\n",
       "</table>\n",
       "</div>"
      ],
      "text/plain": [
       "   PassengerId  Survived  Pclass  \\\n",
       "0            1       0.0       3   \n",
       "1            2       1.0       1   \n",
       "2            3       1.0       3   \n",
       "3            4       1.0       1   \n",
       "4            5       0.0       3   \n",
       "\n",
       "                                                Name     Sex   Age  SibSp  \\\n",
       "0                            Braund, Mr. Owen Harris    male  22.0      1   \n",
       "1  Cumings, Mrs. John Bradley (Florence Briggs Th...  female  38.0      1   \n",
       "2                             Heikkinen, Miss. Laina  female  26.0      0   \n",
       "3       Futrelle, Mrs. Jacques Heath (Lily May Peel)  female  35.0      1   \n",
       "4                           Allen, Mr. William Henry    male  35.0      0   \n",
       "\n",
       "   Parch            Ticket     Fare Cabin Embarked  \n",
       "0      0         A/5 21171   7.2500   NaN        S  \n",
       "1      0          PC 17599  71.2833   C85        C  \n",
       "2      0  STON/O2. 3101282   7.9250   NaN        S  \n",
       "3      0            113803  53.1000  C123        S  \n",
       "4      0            373450   8.0500   NaN        S  "
      ]
     },
     "execution_count": 3,
     "metadata": {},
     "output_type": "execute_result"
    }
   ],
   "source": [
    "# concat all data into one to do EDA\n",
    "df = pd.concat([df1,df2])\n",
    "df.head()"
   ]
  },
  {
   "cell_type": "markdown",
   "id": "universal-criticism",
   "metadata": {},
   "source": [
    "We can't dropna. It will lose 90% data"
   ]
  },
  {
   "cell_type": "code",
   "execution_count": 4,
   "id": "arbitrary-brave",
   "metadata": {
    "scrolled": true
   },
   "outputs": [
    {
     "data": {
      "text/plain": [
       "(1309, 12)"
      ]
     },
     "execution_count": 4,
     "metadata": {},
     "output_type": "execute_result"
    }
   ],
   "source": [
    "df.shape"
   ]
  },
  {
   "cell_type": "code",
   "execution_count": 5,
   "id": "organic-karen",
   "metadata": {
    "scrolled": false
   },
   "outputs": [
    {
     "data": {
      "text/html": [
       "<div>\n",
       "<style scoped>\n",
       "    .dataframe tbody tr th:only-of-type {\n",
       "        vertical-align: middle;\n",
       "    }\n",
       "\n",
       "    .dataframe tbody tr th {\n",
       "        vertical-align: top;\n",
       "    }\n",
       "\n",
       "    .dataframe thead th {\n",
       "        text-align: right;\n",
       "    }\n",
       "</style>\n",
       "<table border=\"1\" class=\"dataframe\">\n",
       "  <thead>\n",
       "    <tr style=\"text-align: right;\">\n",
       "      <th></th>\n",
       "      <th>PassengerId</th>\n",
       "      <th>Survived</th>\n",
       "      <th>Pclass</th>\n",
       "      <th>Name</th>\n",
       "      <th>Sex</th>\n",
       "      <th>Age</th>\n",
       "      <th>SibSp</th>\n",
       "      <th>Parch</th>\n",
       "      <th>Ticket</th>\n",
       "      <th>Fare</th>\n",
       "      <th>Cabin</th>\n",
       "      <th>Embarked</th>\n",
       "    </tr>\n",
       "  </thead>\n",
       "  <tbody>\n",
       "    <tr>\n",
       "      <th>1</th>\n",
       "      <td>2</td>\n",
       "      <td>1.0</td>\n",
       "      <td>1</td>\n",
       "      <td>Cumings, Mrs. John Bradley (Florence Briggs Th...</td>\n",
       "      <td>female</td>\n",
       "      <td>38.0</td>\n",
       "      <td>1</td>\n",
       "      <td>0</td>\n",
       "      <td>PC 17599</td>\n",
       "      <td>71.2833</td>\n",
       "      <td>C85</td>\n",
       "      <td>C</td>\n",
       "    </tr>\n",
       "    <tr>\n",
       "      <th>3</th>\n",
       "      <td>4</td>\n",
       "      <td>1.0</td>\n",
       "      <td>1</td>\n",
       "      <td>Futrelle, Mrs. Jacques Heath (Lily May Peel)</td>\n",
       "      <td>female</td>\n",
       "      <td>35.0</td>\n",
       "      <td>1</td>\n",
       "      <td>0</td>\n",
       "      <td>113803</td>\n",
       "      <td>53.1000</td>\n",
       "      <td>C123</td>\n",
       "      <td>S</td>\n",
       "    </tr>\n",
       "    <tr>\n",
       "      <th>6</th>\n",
       "      <td>7</td>\n",
       "      <td>0.0</td>\n",
       "      <td>1</td>\n",
       "      <td>McCarthy, Mr. Timothy J</td>\n",
       "      <td>male</td>\n",
       "      <td>54.0</td>\n",
       "      <td>0</td>\n",
       "      <td>0</td>\n",
       "      <td>17463</td>\n",
       "      <td>51.8625</td>\n",
       "      <td>E46</td>\n",
       "      <td>S</td>\n",
       "    </tr>\n",
       "    <tr>\n",
       "      <th>10</th>\n",
       "      <td>11</td>\n",
       "      <td>1.0</td>\n",
       "      <td>3</td>\n",
       "      <td>Sandstrom, Miss. Marguerite Rut</td>\n",
       "      <td>female</td>\n",
       "      <td>4.0</td>\n",
       "      <td>1</td>\n",
       "      <td>1</td>\n",
       "      <td>PP 9549</td>\n",
       "      <td>16.7000</td>\n",
       "      <td>G6</td>\n",
       "      <td>S</td>\n",
       "    </tr>\n",
       "    <tr>\n",
       "      <th>11</th>\n",
       "      <td>12</td>\n",
       "      <td>1.0</td>\n",
       "      <td>1</td>\n",
       "      <td>Bonnell, Miss. Elizabeth</td>\n",
       "      <td>female</td>\n",
       "      <td>58.0</td>\n",
       "      <td>0</td>\n",
       "      <td>0</td>\n",
       "      <td>113783</td>\n",
       "      <td>26.5500</td>\n",
       "      <td>C103</td>\n",
       "      <td>S</td>\n",
       "    </tr>\n",
       "    <tr>\n",
       "      <th>...</th>\n",
       "      <td>...</td>\n",
       "      <td>...</td>\n",
       "      <td>...</td>\n",
       "      <td>...</td>\n",
       "      <td>...</td>\n",
       "      <td>...</td>\n",
       "      <td>...</td>\n",
       "      <td>...</td>\n",
       "      <td>...</td>\n",
       "      <td>...</td>\n",
       "      <td>...</td>\n",
       "      <td>...</td>\n",
       "    </tr>\n",
       "    <tr>\n",
       "      <th>871</th>\n",
       "      <td>872</td>\n",
       "      <td>1.0</td>\n",
       "      <td>1</td>\n",
       "      <td>Beckwith, Mrs. Richard Leonard (Sallie Monypeny)</td>\n",
       "      <td>female</td>\n",
       "      <td>47.0</td>\n",
       "      <td>1</td>\n",
       "      <td>1</td>\n",
       "      <td>11751</td>\n",
       "      <td>52.5542</td>\n",
       "      <td>D35</td>\n",
       "      <td>S</td>\n",
       "    </tr>\n",
       "    <tr>\n",
       "      <th>872</th>\n",
       "      <td>873</td>\n",
       "      <td>0.0</td>\n",
       "      <td>1</td>\n",
       "      <td>Carlsson, Mr. Frans Olof</td>\n",
       "      <td>male</td>\n",
       "      <td>33.0</td>\n",
       "      <td>0</td>\n",
       "      <td>0</td>\n",
       "      <td>695</td>\n",
       "      <td>5.0000</td>\n",
       "      <td>B51 B53 B55</td>\n",
       "      <td>S</td>\n",
       "    </tr>\n",
       "    <tr>\n",
       "      <th>879</th>\n",
       "      <td>880</td>\n",
       "      <td>1.0</td>\n",
       "      <td>1</td>\n",
       "      <td>Potter, Mrs. Thomas Jr (Lily Alexenia Wilson)</td>\n",
       "      <td>female</td>\n",
       "      <td>56.0</td>\n",
       "      <td>0</td>\n",
       "      <td>1</td>\n",
       "      <td>11767</td>\n",
       "      <td>83.1583</td>\n",
       "      <td>C50</td>\n",
       "      <td>C</td>\n",
       "    </tr>\n",
       "    <tr>\n",
       "      <th>887</th>\n",
       "      <td>888</td>\n",
       "      <td>1.0</td>\n",
       "      <td>1</td>\n",
       "      <td>Graham, Miss. Margaret Edith</td>\n",
       "      <td>female</td>\n",
       "      <td>19.0</td>\n",
       "      <td>0</td>\n",
       "      <td>0</td>\n",
       "      <td>112053</td>\n",
       "      <td>30.0000</td>\n",
       "      <td>B42</td>\n",
       "      <td>S</td>\n",
       "    </tr>\n",
       "    <tr>\n",
       "      <th>889</th>\n",
       "      <td>890</td>\n",
       "      <td>1.0</td>\n",
       "      <td>1</td>\n",
       "      <td>Behr, Mr. Karl Howell</td>\n",
       "      <td>male</td>\n",
       "      <td>26.0</td>\n",
       "      <td>0</td>\n",
       "      <td>0</td>\n",
       "      <td>111369</td>\n",
       "      <td>30.0000</td>\n",
       "      <td>C148</td>\n",
       "      <td>C</td>\n",
       "    </tr>\n",
       "  </tbody>\n",
       "</table>\n",
       "<p>183 rows × 12 columns</p>\n",
       "</div>"
      ],
      "text/plain": [
       "     PassengerId  Survived  Pclass  \\\n",
       "1              2       1.0       1   \n",
       "3              4       1.0       1   \n",
       "6              7       0.0       1   \n",
       "10            11       1.0       3   \n",
       "11            12       1.0       1   \n",
       "..           ...       ...     ...   \n",
       "871          872       1.0       1   \n",
       "872          873       0.0       1   \n",
       "879          880       1.0       1   \n",
       "887          888       1.0       1   \n",
       "889          890       1.0       1   \n",
       "\n",
       "                                                  Name     Sex   Age  SibSp  \\\n",
       "1    Cumings, Mrs. John Bradley (Florence Briggs Th...  female  38.0      1   \n",
       "3         Futrelle, Mrs. Jacques Heath (Lily May Peel)  female  35.0      1   \n",
       "6                              McCarthy, Mr. Timothy J    male  54.0      0   \n",
       "10                     Sandstrom, Miss. Marguerite Rut  female   4.0      1   \n",
       "11                            Bonnell, Miss. Elizabeth  female  58.0      0   \n",
       "..                                                 ...     ...   ...    ...   \n",
       "871   Beckwith, Mrs. Richard Leonard (Sallie Monypeny)  female  47.0      1   \n",
       "872                           Carlsson, Mr. Frans Olof    male  33.0      0   \n",
       "879      Potter, Mrs. Thomas Jr (Lily Alexenia Wilson)  female  56.0      0   \n",
       "887                       Graham, Miss. Margaret Edith  female  19.0      0   \n",
       "889                              Behr, Mr. Karl Howell    male  26.0      0   \n",
       "\n",
       "     Parch    Ticket     Fare        Cabin Embarked  \n",
       "1        0  PC 17599  71.2833          C85        C  \n",
       "3        0    113803  53.1000         C123        S  \n",
       "6        0     17463  51.8625          E46        S  \n",
       "10       1   PP 9549  16.7000           G6        S  \n",
       "11       0    113783  26.5500         C103        S  \n",
       "..     ...       ...      ...          ...      ...  \n",
       "871      1     11751  52.5542          D35        S  \n",
       "872      0       695   5.0000  B51 B53 B55        S  \n",
       "879      1     11767  83.1583          C50        C  \n",
       "887      0    112053  30.0000          B42        S  \n",
       "889      0    111369  30.0000         C148        C  \n",
       "\n",
       "[183 rows x 12 columns]"
      ]
     },
     "execution_count": 5,
     "metadata": {},
     "output_type": "execute_result"
    }
   ],
   "source": [
    "df.dropna()"
   ]
  },
  {
   "cell_type": "markdown",
   "id": "interesting-premium",
   "metadata": {},
   "source": [
    "Check which columns have null"
   ]
  },
  {
   "cell_type": "code",
   "execution_count": 6,
   "id": "commercial-maine",
   "metadata": {
    "scrolled": false
   },
   "outputs": [
    {
     "data": {
      "text/plain": [
       "PassengerId    False\n",
       "Survived        True\n",
       "Pclass         False\n",
       "Name           False\n",
       "Sex            False\n",
       "Age             True\n",
       "SibSp          False\n",
       "Parch          False\n",
       "Ticket         False\n",
       "Fare            True\n",
       "Cabin           True\n",
       "Embarked        True\n",
       "dtype: bool"
      ]
     },
     "execution_count": 6,
     "metadata": {},
     "output_type": "execute_result"
    }
   ],
   "source": [
    "df.isnull().any()"
   ]
  },
  {
   "cell_type": "markdown",
   "id": "angry-china",
   "metadata": {},
   "source": [
    "#### Fill Age NA"
   ]
  },
  {
   "cell_type": "code",
   "execution_count": 7,
   "id": "stopped-accent",
   "metadata": {},
   "outputs": [],
   "source": [
    "# fill age will mean of age\n",
    "df['Age'] = df['Age'].fillna(float(round(df['Age'].mean())))"
   ]
  },
  {
   "cell_type": "markdown",
   "id": "unknown-spirit",
   "metadata": {},
   "source": [
    "#### Fill Fare NA"
   ]
  },
  {
   "cell_type": "code",
   "execution_count": 8,
   "id": "coordinated-bible",
   "metadata": {
    "scrolled": true
   },
   "outputs": [
    {
     "data": {
      "text/plain": [
       "1"
      ]
     },
     "execution_count": 8,
     "metadata": {},
     "output_type": "execute_result"
    }
   ],
   "source": [
    "(df['Fare'].isnull() == True).sum() # There is only one null in Fare"
   ]
  },
  {
   "cell_type": "code",
   "execution_count": 9,
   "id": "numeric-current",
   "metadata": {},
   "outputs": [
    {
     "data": {
      "text/html": [
       "<div>\n",
       "<style scoped>\n",
       "    .dataframe tbody tr th:only-of-type {\n",
       "        vertical-align: middle;\n",
       "    }\n",
       "\n",
       "    .dataframe tbody tr th {\n",
       "        vertical-align: top;\n",
       "    }\n",
       "\n",
       "    .dataframe thead th {\n",
       "        text-align: right;\n",
       "    }\n",
       "</style>\n",
       "<table border=\"1\" class=\"dataframe\">\n",
       "  <thead>\n",
       "    <tr style=\"text-align: right;\">\n",
       "      <th></th>\n",
       "      <th>PassengerId</th>\n",
       "      <th>Survived</th>\n",
       "      <th>Pclass</th>\n",
       "      <th>Name</th>\n",
       "      <th>Sex</th>\n",
       "      <th>Age</th>\n",
       "      <th>SibSp</th>\n",
       "      <th>Parch</th>\n",
       "      <th>Ticket</th>\n",
       "      <th>Fare</th>\n",
       "      <th>Cabin</th>\n",
       "      <th>Embarked</th>\n",
       "    </tr>\n",
       "  </thead>\n",
       "  <tbody>\n",
       "    <tr>\n",
       "      <th>152</th>\n",
       "      <td>1044</td>\n",
       "      <td>NaN</td>\n",
       "      <td>3</td>\n",
       "      <td>Storey, Mr. Thomas</td>\n",
       "      <td>male</td>\n",
       "      <td>60.5</td>\n",
       "      <td>0</td>\n",
       "      <td>0</td>\n",
       "      <td>3701</td>\n",
       "      <td>NaN</td>\n",
       "      <td>NaN</td>\n",
       "      <td>S</td>\n",
       "    </tr>\n",
       "  </tbody>\n",
       "</table>\n",
       "</div>"
      ],
      "text/plain": [
       "     PassengerId  Survived  Pclass                Name   Sex   Age  SibSp  \\\n",
       "152         1044       NaN       3  Storey, Mr. Thomas  male  60.5      0   \n",
       "\n",
       "     Parch Ticket  Fare Cabin Embarked  \n",
       "152      0   3701   NaN   NaN        S  "
      ]
     },
     "execution_count": 9,
     "metadata": {},
     "output_type": "execute_result"
    }
   ],
   "source": [
    "df[df['Fare'].isna()] # This passenger is 3rd class"
   ]
  },
  {
   "cell_type": "code",
   "execution_count": 10,
   "id": "smart-scale",
   "metadata": {},
   "outputs": [],
   "source": [
    "# calculate 3rd class fare mean\n",
    "df['Fare'].fillna(df[df['Pclass']==3]['Fare'].mean(),inplace=True)"
   ]
  },
  {
   "cell_type": "code",
   "execution_count": 11,
   "id": "rural-speaker",
   "metadata": {},
   "outputs": [
    {
     "data": {
      "text/plain": [
       "PassengerId    False\n",
       "Survived        True\n",
       "Pclass         False\n",
       "Name           False\n",
       "Sex            False\n",
       "Age            False\n",
       "SibSp          False\n",
       "Parch          False\n",
       "Ticket         False\n",
       "Fare           False\n",
       "Cabin           True\n",
       "Embarked        True\n",
       "dtype: bool"
      ]
     },
     "execution_count": 11,
     "metadata": {},
     "output_type": "execute_result"
    }
   ],
   "source": [
    "df.isnull().any()"
   ]
  },
  {
   "cell_type": "markdown",
   "id": "obvious-external",
   "metadata": {},
   "source": [
    "#### Fill Cabin NA"
   ]
  },
  {
   "cell_type": "code",
   "execution_count": 12,
   "id": "according-carnival",
   "metadata": {},
   "outputs": [
    {
     "data": {
      "text/plain": [
       "1014"
      ]
     },
     "execution_count": 12,
     "metadata": {},
     "output_type": "execute_result"
    }
   ],
   "source": [
    "(df['Cabin'].isnull() == True).sum() # see how many Cabin missed"
   ]
  },
  {
   "cell_type": "code",
   "execution_count": 13,
   "id": "grave-bloom",
   "metadata": {},
   "outputs": [
    {
     "data": {
      "text/plain": [
       "C23 C25 C27        6\n",
       "B57 B59 B63 B66    5\n",
       "G6                 5\n",
       "F33                4\n",
       "C22 C26            4\n",
       "                  ..\n",
       "B24                1\n",
       "E10                1\n",
       "B86                1\n",
       "B26                1\n",
       "A7                 1\n",
       "Name: Cabin, Length: 186, dtype: int64"
      ]
     },
     "execution_count": 13,
     "metadata": {},
     "output_type": "execute_result"
    }
   ],
   "source": [
    "df['Cabin'].value_counts() # see how many different Cabins"
   ]
  },
  {
   "cell_type": "code",
   "execution_count": 14,
   "id": "selected-terminology",
   "metadata": {},
   "outputs": [],
   "source": [
    "# it's impossible to fillna with hand made value, so fill na with just NA\n",
    "df['Cabin'].fillna(\"NA\",inplace=True)"
   ]
  },
  {
   "cell_type": "markdown",
   "id": "coordinated-colorado",
   "metadata": {},
   "source": [
    "#### Fill Embarked"
   ]
  },
  {
   "cell_type": "code",
   "execution_count": 15,
   "id": "essential-uruguay",
   "metadata": {},
   "outputs": [
    {
     "data": {
      "text/plain": [
       "2"
      ]
     },
     "execution_count": 15,
     "metadata": {},
     "output_type": "execute_result"
    }
   ],
   "source": [
    "(df['Embarked'].isnull()==True).sum() # There are only two embarked are missing"
   ]
  },
  {
   "cell_type": "code",
   "execution_count": 16,
   "id": "absolute-membrane",
   "metadata": {},
   "outputs": [
    {
     "data": {
      "text/html": [
       "<div>\n",
       "<style scoped>\n",
       "    .dataframe tbody tr th:only-of-type {\n",
       "        vertical-align: middle;\n",
       "    }\n",
       "\n",
       "    .dataframe tbody tr th {\n",
       "        vertical-align: top;\n",
       "    }\n",
       "\n",
       "    .dataframe thead th {\n",
       "        text-align: right;\n",
       "    }\n",
       "</style>\n",
       "<table border=\"1\" class=\"dataframe\">\n",
       "  <thead>\n",
       "    <tr style=\"text-align: right;\">\n",
       "      <th></th>\n",
       "      <th>PassengerId</th>\n",
       "      <th>Survived</th>\n",
       "      <th>Pclass</th>\n",
       "      <th>Name</th>\n",
       "      <th>Sex</th>\n",
       "      <th>Age</th>\n",
       "      <th>SibSp</th>\n",
       "      <th>Parch</th>\n",
       "      <th>Ticket</th>\n",
       "      <th>Fare</th>\n",
       "      <th>Cabin</th>\n",
       "      <th>Embarked</th>\n",
       "    </tr>\n",
       "  </thead>\n",
       "  <tbody>\n",
       "    <tr>\n",
       "      <th>61</th>\n",
       "      <td>62</td>\n",
       "      <td>1.0</td>\n",
       "      <td>1</td>\n",
       "      <td>Icard, Miss. Amelie</td>\n",
       "      <td>female</td>\n",
       "      <td>38.0</td>\n",
       "      <td>0</td>\n",
       "      <td>0</td>\n",
       "      <td>113572</td>\n",
       "      <td>80.0</td>\n",
       "      <td>B28</td>\n",
       "      <td>NaN</td>\n",
       "    </tr>\n",
       "    <tr>\n",
       "      <th>829</th>\n",
       "      <td>830</td>\n",
       "      <td>1.0</td>\n",
       "      <td>1</td>\n",
       "      <td>Stone, Mrs. George Nelson (Martha Evelyn)</td>\n",
       "      <td>female</td>\n",
       "      <td>62.0</td>\n",
       "      <td>0</td>\n",
       "      <td>0</td>\n",
       "      <td>113572</td>\n",
       "      <td>80.0</td>\n",
       "      <td>B28</td>\n",
       "      <td>NaN</td>\n",
       "    </tr>\n",
       "  </tbody>\n",
       "</table>\n",
       "</div>"
      ],
      "text/plain": [
       "     PassengerId  Survived  Pclass                                       Name  \\\n",
       "61            62       1.0       1                        Icard, Miss. Amelie   \n",
       "829          830       1.0       1  Stone, Mrs. George Nelson (Martha Evelyn)   \n",
       "\n",
       "        Sex   Age  SibSp  Parch  Ticket  Fare Cabin Embarked  \n",
       "61   female  38.0      0      0  113572  80.0   B28      NaN  \n",
       "829  female  62.0      0      0  113572  80.0   B28      NaN  "
      ]
     },
     "execution_count": 16,
     "metadata": {},
     "output_type": "execute_result"
    }
   ],
   "source": [
    "df[df['Embarked'].isna()] # They both are 1st class passenger"
   ]
  },
  {
   "cell_type": "code",
   "execution_count": 17,
   "id": "illegal-essay",
   "metadata": {},
   "outputs": [
    {
     "data": {
      "text/plain": [
       "S    177\n",
       "C    141\n",
       "Q      3\n",
       "Name: Embarked, dtype: int64"
      ]
     },
     "execution_count": 17,
     "metadata": {},
     "output_type": "execute_result"
    }
   ],
   "source": [
    "df[df['Pclass']==1]['Embarked'].value_counts() \n",
    "# We can see that nearly all 1st class passengers are from S or C"
   ]
  },
  {
   "cell_type": "code",
   "execution_count": 18,
   "id": "useful-village",
   "metadata": {},
   "outputs": [],
   "source": [
    "df['Embarked'].fillna('S',inplace=True)"
   ]
  },
  {
   "cell_type": "markdown",
   "id": "electrical-capture",
   "metadata": {},
   "source": [
    "#### Fill Survived NA"
   ]
  },
  {
   "cell_type": "code",
   "execution_count": 19,
   "id": "usual-sheet",
   "metadata": {},
   "outputs": [
    {
     "data": {
      "text/plain": [
       "False    891\n",
       "True     418\n",
       "Name: Survived, dtype: int64"
      ]
     },
     "execution_count": 19,
     "metadata": {},
     "output_type": "execute_result"
    }
   ],
   "source": [
    "df['Survived'].isnull().value_counts() # there are 418 missed"
   ]
  },
  {
   "cell_type": "code",
   "execution_count": 20,
   "id": "hungry-damage",
   "metadata": {},
   "outputs": [],
   "source": [
    "df['Survived'].fillna(2.0,inplace=True) # create a new label 2, means passenger is unknown/missed"
   ]
  },
  {
   "cell_type": "markdown",
   "id": "painted-driver",
   "metadata": {},
   "source": [
    "#### Overall Check"
   ]
  },
  {
   "cell_type": "code",
   "execution_count": 21,
   "id": "developed-cement",
   "metadata": {},
   "outputs": [
    {
     "data": {
      "text/plain": [
       "PassengerId    False\n",
       "Survived       False\n",
       "Pclass         False\n",
       "Name           False\n",
       "Sex            False\n",
       "Age            False\n",
       "SibSp          False\n",
       "Parch          False\n",
       "Ticket         False\n",
       "Fare           False\n",
       "Cabin          False\n",
       "Embarked       False\n",
       "dtype: bool"
      ]
     },
     "execution_count": 21,
     "metadata": {},
     "output_type": "execute_result"
    }
   ],
   "source": [
    "df.isnull().any()"
   ]
  },
  {
   "cell_type": "markdown",
   "id": "hourly-cookie",
   "metadata": {},
   "source": [
    "We complete data imputing"
   ]
  },
  {
   "cell_type": "markdown",
   "id": "attached-lesson",
   "metadata": {},
   "source": [
    "## Outlier Check"
   ]
  },
  {
   "cell_type": "markdown",
   "id": "aggressive-macedonia",
   "metadata": {},
   "source": [
    "Ignore Id, survived, p class, name, Cabin and Embark Fields"
   ]
  },
  {
   "cell_type": "code",
   "execution_count": 22,
   "id": "affecting-remark",
   "metadata": {},
   "outputs": [
    {
     "data": {
      "text/plain": [
       "count     1309\n",
       "unique       2\n",
       "top       male\n",
       "freq       843\n",
       "Name: Sex, dtype: object"
      ]
     },
     "execution_count": 22,
     "metadata": {},
     "output_type": "execute_result"
    }
   ],
   "source": [
    "df[\"Sex\"].describe() # Sex is fine, no outliers"
   ]
  },
  {
   "cell_type": "code",
   "execution_count": 23,
   "id": "documented-square",
   "metadata": {},
   "outputs": [
    {
     "data": {
      "text/plain": [
       "count    1309.000000\n",
       "mean       29.905019\n",
       "std        12.883281\n",
       "min         0.170000\n",
       "25%        22.000000\n",
       "50%        30.000000\n",
       "75%        35.000000\n",
       "max        80.000000\n",
       "Name: Age, dtype: float64"
      ]
     },
     "execution_count": 23,
     "metadata": {},
     "output_type": "execute_result"
    }
   ],
   "source": [
    "df[\"Age\"].describe() # We can see the min of age is 0.017"
   ]
  },
  {
   "cell_type": "code",
   "execution_count": 24,
   "id": "about-shareware",
   "metadata": {
    "scrolled": true
   },
   "outputs": [
    {
     "data": {
      "text/html": [
       "<div>\n",
       "<style scoped>\n",
       "    .dataframe tbody tr th:only-of-type {\n",
       "        vertical-align: middle;\n",
       "    }\n",
       "\n",
       "    .dataframe tbody tr th {\n",
       "        vertical-align: top;\n",
       "    }\n",
       "\n",
       "    .dataframe thead th {\n",
       "        text-align: right;\n",
       "    }\n",
       "</style>\n",
       "<table border=\"1\" class=\"dataframe\">\n",
       "  <thead>\n",
       "    <tr style=\"text-align: right;\">\n",
       "      <th></th>\n",
       "      <th>PassengerId</th>\n",
       "      <th>Survived</th>\n",
       "      <th>Pclass</th>\n",
       "      <th>Name</th>\n",
       "      <th>Sex</th>\n",
       "      <th>Age</th>\n",
       "      <th>SibSp</th>\n",
       "      <th>Parch</th>\n",
       "      <th>Ticket</th>\n",
       "      <th>Fare</th>\n",
       "      <th>Cabin</th>\n",
       "      <th>Embarked</th>\n",
       "    </tr>\n",
       "  </thead>\n",
       "  <tbody>\n",
       "    <tr>\n",
       "      <th>354</th>\n",
       "      <td>1246</td>\n",
       "      <td>2.0</td>\n",
       "      <td>3</td>\n",
       "      <td>Dean, Miss. Elizabeth Gladys Millvina\"\"</td>\n",
       "      <td>female</td>\n",
       "      <td>0.17</td>\n",
       "      <td>1</td>\n",
       "      <td>2</td>\n",
       "      <td>C.A. 2315</td>\n",
       "      <td>20.5750</td>\n",
       "      <td>NA</td>\n",
       "      <td>S</td>\n",
       "    </tr>\n",
       "    <tr>\n",
       "      <th>201</th>\n",
       "      <td>1093</td>\n",
       "      <td>2.0</td>\n",
       "      <td>3</td>\n",
       "      <td>Danbom, Master. Gilbert Sigvard Emanuel</td>\n",
       "      <td>male</td>\n",
       "      <td>0.33</td>\n",
       "      <td>0</td>\n",
       "      <td>2</td>\n",
       "      <td>347080</td>\n",
       "      <td>14.4000</td>\n",
       "      <td>NA</td>\n",
       "      <td>S</td>\n",
       "    </tr>\n",
       "    <tr>\n",
       "      <th>803</th>\n",
       "      <td>804</td>\n",
       "      <td>1.0</td>\n",
       "      <td>3</td>\n",
       "      <td>Thomas, Master. Assad Alexander</td>\n",
       "      <td>male</td>\n",
       "      <td>0.42</td>\n",
       "      <td>0</td>\n",
       "      <td>1</td>\n",
       "      <td>2625</td>\n",
       "      <td>8.5167</td>\n",
       "      <td>NA</td>\n",
       "      <td>C</td>\n",
       "    </tr>\n",
       "    <tr>\n",
       "      <th>755</th>\n",
       "      <td>756</td>\n",
       "      <td>1.0</td>\n",
       "      <td>2</td>\n",
       "      <td>Hamalainen, Master. Viljo</td>\n",
       "      <td>male</td>\n",
       "      <td>0.67</td>\n",
       "      <td>1</td>\n",
       "      <td>1</td>\n",
       "      <td>250649</td>\n",
       "      <td>14.5000</td>\n",
       "      <td>NA</td>\n",
       "      <td>S</td>\n",
       "    </tr>\n",
       "    <tr>\n",
       "      <th>281</th>\n",
       "      <td>1173</td>\n",
       "      <td>2.0</td>\n",
       "      <td>3</td>\n",
       "      <td>Peacock, Master. Alfred Edward</td>\n",
       "      <td>male</td>\n",
       "      <td>0.75</td>\n",
       "      <td>1</td>\n",
       "      <td>1</td>\n",
       "      <td>SOTON/O.Q. 3101315</td>\n",
       "      <td>13.7750</td>\n",
       "      <td>NA</td>\n",
       "      <td>S</td>\n",
       "    </tr>\n",
       "    <tr>\n",
       "      <th>644</th>\n",
       "      <td>645</td>\n",
       "      <td>1.0</td>\n",
       "      <td>3</td>\n",
       "      <td>Baclini, Miss. Eugenie</td>\n",
       "      <td>female</td>\n",
       "      <td>0.75</td>\n",
       "      <td>2</td>\n",
       "      <td>1</td>\n",
       "      <td>2666</td>\n",
       "      <td>19.2583</td>\n",
       "      <td>NA</td>\n",
       "      <td>C</td>\n",
       "    </tr>\n",
       "    <tr>\n",
       "      <th>469</th>\n",
       "      <td>470</td>\n",
       "      <td>1.0</td>\n",
       "      <td>3</td>\n",
       "      <td>Baclini, Miss. Helene Barbara</td>\n",
       "      <td>female</td>\n",
       "      <td>0.75</td>\n",
       "      <td>2</td>\n",
       "      <td>1</td>\n",
       "      <td>2666</td>\n",
       "      <td>19.2583</td>\n",
       "      <td>NA</td>\n",
       "      <td>C</td>\n",
       "    </tr>\n",
       "    <tr>\n",
       "      <th>78</th>\n",
       "      <td>79</td>\n",
       "      <td>1.0</td>\n",
       "      <td>2</td>\n",
       "      <td>Caldwell, Master. Alden Gates</td>\n",
       "      <td>male</td>\n",
       "      <td>0.83</td>\n",
       "      <td>0</td>\n",
       "      <td>2</td>\n",
       "      <td>248738</td>\n",
       "      <td>29.0000</td>\n",
       "      <td>NA</td>\n",
       "      <td>S</td>\n",
       "    </tr>\n",
       "    <tr>\n",
       "      <th>307</th>\n",
       "      <td>1199</td>\n",
       "      <td>2.0</td>\n",
       "      <td>3</td>\n",
       "      <td>Aks, Master. Philip Frank</td>\n",
       "      <td>male</td>\n",
       "      <td>0.83</td>\n",
       "      <td>0</td>\n",
       "      <td>1</td>\n",
       "      <td>392091</td>\n",
       "      <td>9.3500</td>\n",
       "      <td>NA</td>\n",
       "      <td>S</td>\n",
       "    </tr>\n",
       "    <tr>\n",
       "      <th>831</th>\n",
       "      <td>832</td>\n",
       "      <td>1.0</td>\n",
       "      <td>2</td>\n",
       "      <td>Richards, Master. George Sibley</td>\n",
       "      <td>male</td>\n",
       "      <td>0.83</td>\n",
       "      <td>1</td>\n",
       "      <td>1</td>\n",
       "      <td>29106</td>\n",
       "      <td>18.7500</td>\n",
       "      <td>NA</td>\n",
       "      <td>S</td>\n",
       "    </tr>\n",
       "    <tr>\n",
       "      <th>250</th>\n",
       "      <td>1142</td>\n",
       "      <td>2.0</td>\n",
       "      <td>2</td>\n",
       "      <td>West, Miss. Barbara J</td>\n",
       "      <td>female</td>\n",
       "      <td>0.92</td>\n",
       "      <td>1</td>\n",
       "      <td>2</td>\n",
       "      <td>C.A. 34651</td>\n",
       "      <td>27.7500</td>\n",
       "      <td>NA</td>\n",
       "      <td>S</td>\n",
       "    </tr>\n",
       "    <tr>\n",
       "      <th>305</th>\n",
       "      <td>306</td>\n",
       "      <td>1.0</td>\n",
       "      <td>1</td>\n",
       "      <td>Allison, Master. Hudson Trevor</td>\n",
       "      <td>male</td>\n",
       "      <td>0.92</td>\n",
       "      <td>1</td>\n",
       "      <td>2</td>\n",
       "      <td>113781</td>\n",
       "      <td>151.5500</td>\n",
       "      <td>C22 C26</td>\n",
       "      <td>S</td>\n",
       "    </tr>\n",
       "    <tr>\n",
       "      <th>381</th>\n",
       "      <td>382</td>\n",
       "      <td>1.0</td>\n",
       "      <td>3</td>\n",
       "      <td>Nakid, Miss. Maria (\"Mary\")</td>\n",
       "      <td>female</td>\n",
       "      <td>1.00</td>\n",
       "      <td>0</td>\n",
       "      <td>2</td>\n",
       "      <td>2653</td>\n",
       "      <td>15.7417</td>\n",
       "      <td>NA</td>\n",
       "      <td>C</td>\n",
       "    </tr>\n",
       "    <tr>\n",
       "      <th>788</th>\n",
       "      <td>789</td>\n",
       "      <td>1.0</td>\n",
       "      <td>3</td>\n",
       "      <td>Dean, Master. Bertram Vere</td>\n",
       "      <td>male</td>\n",
       "      <td>1.00</td>\n",
       "      <td>1</td>\n",
       "      <td>2</td>\n",
       "      <td>C.A. 2315</td>\n",
       "      <td>20.5750</td>\n",
       "      <td>NA</td>\n",
       "      <td>S</td>\n",
       "    </tr>\n",
       "    <tr>\n",
       "      <th>827</th>\n",
       "      <td>828</td>\n",
       "      <td>1.0</td>\n",
       "      <td>2</td>\n",
       "      <td>Mallet, Master. Andre</td>\n",
       "      <td>male</td>\n",
       "      <td>1.00</td>\n",
       "      <td>0</td>\n",
       "      <td>2</td>\n",
       "      <td>S.C./PARIS 2079</td>\n",
       "      <td>37.0042</td>\n",
       "      <td>NA</td>\n",
       "      <td>C</td>\n",
       "    </tr>\n",
       "    <tr>\n",
       "      <th>296</th>\n",
       "      <td>1188</td>\n",
       "      <td>2.0</td>\n",
       "      <td>2</td>\n",
       "      <td>Laroche, Miss. Louise</td>\n",
       "      <td>female</td>\n",
       "      <td>1.00</td>\n",
       "      <td>1</td>\n",
       "      <td>2</td>\n",
       "      <td>SC/Paris 2123</td>\n",
       "      <td>41.5792</td>\n",
       "      <td>NA</td>\n",
       "      <td>C</td>\n",
       "    </tr>\n",
       "    <tr>\n",
       "      <th>386</th>\n",
       "      <td>387</td>\n",
       "      <td>0.0</td>\n",
       "      <td>3</td>\n",
       "      <td>Goodwin, Master. Sidney Leonard</td>\n",
       "      <td>male</td>\n",
       "      <td>1.00</td>\n",
       "      <td>5</td>\n",
       "      <td>2</td>\n",
       "      <td>CA 2144</td>\n",
       "      <td>46.9000</td>\n",
       "      <td>NA</td>\n",
       "      <td>S</td>\n",
       "    </tr>\n",
       "    <tr>\n",
       "      <th>183</th>\n",
       "      <td>184</td>\n",
       "      <td>1.0</td>\n",
       "      <td>2</td>\n",
       "      <td>Becker, Master. Richard F</td>\n",
       "      <td>male</td>\n",
       "      <td>1.00</td>\n",
       "      <td>2</td>\n",
       "      <td>1</td>\n",
       "      <td>230136</td>\n",
       "      <td>39.0000</td>\n",
       "      <td>F4</td>\n",
       "      <td>S</td>\n",
       "    </tr>\n",
       "    <tr>\n",
       "      <th>172</th>\n",
       "      <td>173</td>\n",
       "      <td>1.0</td>\n",
       "      <td>3</td>\n",
       "      <td>Johnson, Miss. Eleanor Ileen</td>\n",
       "      <td>female</td>\n",
       "      <td>1.00</td>\n",
       "      <td>1</td>\n",
       "      <td>1</td>\n",
       "      <td>347742</td>\n",
       "      <td>11.1333</td>\n",
       "      <td>NA</td>\n",
       "      <td>S</td>\n",
       "    </tr>\n",
       "    <tr>\n",
       "      <th>164</th>\n",
       "      <td>165</td>\n",
       "      <td>0.0</td>\n",
       "      <td>3</td>\n",
       "      <td>Panula, Master. Eino Viljami</td>\n",
       "      <td>male</td>\n",
       "      <td>1.00</td>\n",
       "      <td>4</td>\n",
       "      <td>1</td>\n",
       "      <td>3101295</td>\n",
       "      <td>39.6875</td>\n",
       "      <td>NA</td>\n",
       "      <td>S</td>\n",
       "    </tr>\n",
       "    <tr>\n",
       "      <th>263</th>\n",
       "      <td>1155</td>\n",
       "      <td>2.0</td>\n",
       "      <td>3</td>\n",
       "      <td>Klasen, Miss. Gertrud Emilia</td>\n",
       "      <td>female</td>\n",
       "      <td>1.00</td>\n",
       "      <td>1</td>\n",
       "      <td>1</td>\n",
       "      <td>350405</td>\n",
       "      <td>12.1833</td>\n",
       "      <td>NA</td>\n",
       "      <td>S</td>\n",
       "    </tr>\n",
       "    <tr>\n",
       "      <th>117</th>\n",
       "      <td>1009</td>\n",
       "      <td>2.0</td>\n",
       "      <td>3</td>\n",
       "      <td>Sandstrom, Miss. Beatrice Irene</td>\n",
       "      <td>female</td>\n",
       "      <td>1.00</td>\n",
       "      <td>1</td>\n",
       "      <td>1</td>\n",
       "      <td>PP 9549</td>\n",
       "      <td>16.7000</td>\n",
       "      <td>G6</td>\n",
       "      <td>S</td>\n",
       "    </tr>\n",
       "    <tr>\n",
       "      <th>7</th>\n",
       "      <td>8</td>\n",
       "      <td>0.0</td>\n",
       "      <td>3</td>\n",
       "      <td>Palsson, Master. Gosta Leonard</td>\n",
       "      <td>male</td>\n",
       "      <td>2.00</td>\n",
       "      <td>3</td>\n",
       "      <td>1</td>\n",
       "      <td>349909</td>\n",
       "      <td>21.0750</td>\n",
       "      <td>NA</td>\n",
       "      <td>S</td>\n",
       "    </tr>\n",
       "    <tr>\n",
       "      <th>89</th>\n",
       "      <td>981</td>\n",
       "      <td>2.0</td>\n",
       "      <td>2</td>\n",
       "      <td>Wells, Master. Ralph Lester</td>\n",
       "      <td>male</td>\n",
       "      <td>2.00</td>\n",
       "      <td>1</td>\n",
       "      <td>1</td>\n",
       "      <td>29103</td>\n",
       "      <td>23.0000</td>\n",
       "      <td>NA</td>\n",
       "      <td>S</td>\n",
       "    </tr>\n",
       "    <tr>\n",
       "      <th>284</th>\n",
       "      <td>1176</td>\n",
       "      <td>2.0</td>\n",
       "      <td>3</td>\n",
       "      <td>Rosblom, Miss. Salli Helena</td>\n",
       "      <td>female</td>\n",
       "      <td>2.00</td>\n",
       "      <td>1</td>\n",
       "      <td>1</td>\n",
       "      <td>370129</td>\n",
       "      <td>20.2125</td>\n",
       "      <td>NA</td>\n",
       "      <td>S</td>\n",
       "    </tr>\n",
       "    <tr>\n",
       "      <th>824</th>\n",
       "      <td>825</td>\n",
       "      <td>0.0</td>\n",
       "      <td>3</td>\n",
       "      <td>Panula, Master. Urho Abraham</td>\n",
       "      <td>male</td>\n",
       "      <td>2.00</td>\n",
       "      <td>4</td>\n",
       "      <td>1</td>\n",
       "      <td>3101295</td>\n",
       "      <td>39.6875</td>\n",
       "      <td>NA</td>\n",
       "      <td>S</td>\n",
       "    </tr>\n",
       "    <tr>\n",
       "      <th>642</th>\n",
       "      <td>643</td>\n",
       "      <td>0.0</td>\n",
       "      <td>3</td>\n",
       "      <td>Skoog, Miss. Margit Elizabeth</td>\n",
       "      <td>female</td>\n",
       "      <td>2.00</td>\n",
       "      <td>3</td>\n",
       "      <td>2</td>\n",
       "      <td>347088</td>\n",
       "      <td>27.9000</td>\n",
       "      <td>NA</td>\n",
       "      <td>S</td>\n",
       "    </tr>\n",
       "    <tr>\n",
       "      <th>479</th>\n",
       "      <td>480</td>\n",
       "      <td>1.0</td>\n",
       "      <td>3</td>\n",
       "      <td>Hirvonen, Miss. Hildur E</td>\n",
       "      <td>female</td>\n",
       "      <td>2.00</td>\n",
       "      <td>0</td>\n",
       "      <td>1</td>\n",
       "      <td>3101298</td>\n",
       "      <td>12.2875</td>\n",
       "      <td>NA</td>\n",
       "      <td>S</td>\n",
       "    </tr>\n",
       "    <tr>\n",
       "      <th>530</th>\n",
       "      <td>531</td>\n",
       "      <td>1.0</td>\n",
       "      <td>2</td>\n",
       "      <td>Quick, Miss. Phyllis May</td>\n",
       "      <td>female</td>\n",
       "      <td>2.00</td>\n",
       "      <td>1</td>\n",
       "      <td>1</td>\n",
       "      <td>26360</td>\n",
       "      <td>26.0000</td>\n",
       "      <td>NA</td>\n",
       "      <td>S</td>\n",
       "    </tr>\n",
       "    <tr>\n",
       "      <th>16</th>\n",
       "      <td>17</td>\n",
       "      <td>0.0</td>\n",
       "      <td>3</td>\n",
       "      <td>Rice, Master. Eugene</td>\n",
       "      <td>male</td>\n",
       "      <td>2.00</td>\n",
       "      <td>4</td>\n",
       "      <td>1</td>\n",
       "      <td>382652</td>\n",
       "      <td>29.1250</td>\n",
       "      <td>NA</td>\n",
       "      <td>Q</td>\n",
       "    </tr>\n",
       "    <tr>\n",
       "      <th>119</th>\n",
       "      <td>120</td>\n",
       "      <td>0.0</td>\n",
       "      <td>3</td>\n",
       "      <td>Andersson, Miss. Ellis Anna Maria</td>\n",
       "      <td>female</td>\n",
       "      <td>2.00</td>\n",
       "      <td>4</td>\n",
       "      <td>2</td>\n",
       "      <td>347082</td>\n",
       "      <td>31.2750</td>\n",
       "      <td>NA</td>\n",
       "      <td>S</td>\n",
       "    </tr>\n",
       "    <tr>\n",
       "      <th>205</th>\n",
       "      <td>206</td>\n",
       "      <td>0.0</td>\n",
       "      <td>3</td>\n",
       "      <td>Strom, Miss. Telma Matilda</td>\n",
       "      <td>female</td>\n",
       "      <td>2.00</td>\n",
       "      <td>0</td>\n",
       "      <td>1</td>\n",
       "      <td>347054</td>\n",
       "      <td>10.4625</td>\n",
       "      <td>G6</td>\n",
       "      <td>S</td>\n",
       "    </tr>\n",
       "    <tr>\n",
       "      <th>340</th>\n",
       "      <td>341</td>\n",
       "      <td>1.0</td>\n",
       "      <td>2</td>\n",
       "      <td>Navratil, Master. Edmond Roger</td>\n",
       "      <td>male</td>\n",
       "      <td>2.00</td>\n",
       "      <td>1</td>\n",
       "      <td>1</td>\n",
       "      <td>230080</td>\n",
       "      <td>26.0000</td>\n",
       "      <td>F2</td>\n",
       "      <td>S</td>\n",
       "    </tr>\n",
       "    <tr>\n",
       "      <th>297</th>\n",
       "      <td>298</td>\n",
       "      <td>0.0</td>\n",
       "      <td>1</td>\n",
       "      <td>Allison, Miss. Helen Loraine</td>\n",
       "      <td>female</td>\n",
       "      <td>2.00</td>\n",
       "      <td>1</td>\n",
       "      <td>2</td>\n",
       "      <td>113781</td>\n",
       "      <td>151.5500</td>\n",
       "      <td>C22 C26</td>\n",
       "      <td>S</td>\n",
       "    </tr>\n",
       "    <tr>\n",
       "      <th>43</th>\n",
       "      <td>44</td>\n",
       "      <td>1.0</td>\n",
       "      <td>2</td>\n",
       "      <td>Laroche, Miss. Simonne Marie Anne Andree</td>\n",
       "      <td>female</td>\n",
       "      <td>3.00</td>\n",
       "      <td>1</td>\n",
       "      <td>2</td>\n",
       "      <td>SC/Paris 2123</td>\n",
       "      <td>41.5792</td>\n",
       "      <td>NA</td>\n",
       "      <td>C</td>\n",
       "    </tr>\n",
       "    <tr>\n",
       "      <th>193</th>\n",
       "      <td>194</td>\n",
       "      <td>1.0</td>\n",
       "      <td>2</td>\n",
       "      <td>Navratil, Master. Michel M</td>\n",
       "      <td>male</td>\n",
       "      <td>3.00</td>\n",
       "      <td>1</td>\n",
       "      <td>1</td>\n",
       "      <td>230080</td>\n",
       "      <td>26.0000</td>\n",
       "      <td>F2</td>\n",
       "      <td>S</td>\n",
       "    </tr>\n",
       "    <tr>\n",
       "      <th>261</th>\n",
       "      <td>262</td>\n",
       "      <td>1.0</td>\n",
       "      <td>3</td>\n",
       "      <td>Asplund, Master. Edvin Rojj Felix</td>\n",
       "      <td>male</td>\n",
       "      <td>3.00</td>\n",
       "      <td>4</td>\n",
       "      <td>2</td>\n",
       "      <td>347077</td>\n",
       "      <td>31.3875</td>\n",
       "      <td>NA</td>\n",
       "      <td>S</td>\n",
       "    </tr>\n",
       "    <tr>\n",
       "      <th>409</th>\n",
       "      <td>1301</td>\n",
       "      <td>2.0</td>\n",
       "      <td>3</td>\n",
       "      <td>Peacock, Miss. Treasteall</td>\n",
       "      <td>female</td>\n",
       "      <td>3.00</td>\n",
       "      <td>1</td>\n",
       "      <td>1</td>\n",
       "      <td>SOTON/O.Q. 3101315</td>\n",
       "      <td>13.7750</td>\n",
       "      <td>NA</td>\n",
       "      <td>S</td>\n",
       "    </tr>\n",
       "    <tr>\n",
       "      <th>374</th>\n",
       "      <td>375</td>\n",
       "      <td>0.0</td>\n",
       "      <td>3</td>\n",
       "      <td>Palsson, Miss. Stina Viola</td>\n",
       "      <td>female</td>\n",
       "      <td>3.00</td>\n",
       "      <td>3</td>\n",
       "      <td>1</td>\n",
       "      <td>349909</td>\n",
       "      <td>21.0750</td>\n",
       "      <td>NA</td>\n",
       "      <td>S</td>\n",
       "    </tr>\n",
       "    <tr>\n",
       "      <th>407</th>\n",
       "      <td>408</td>\n",
       "      <td>1.0</td>\n",
       "      <td>2</td>\n",
       "      <td>Richards, Master. William Rowe</td>\n",
       "      <td>male</td>\n",
       "      <td>3.00</td>\n",
       "      <td>1</td>\n",
       "      <td>1</td>\n",
       "      <td>29106</td>\n",
       "      <td>18.7500</td>\n",
       "      <td>NA</td>\n",
       "      <td>S</td>\n",
       "    </tr>\n",
       "    <tr>\n",
       "      <th>348</th>\n",
       "      <td>349</td>\n",
       "      <td>1.0</td>\n",
       "      <td>3</td>\n",
       "      <td>Coutts, Master. William Loch \"William\"</td>\n",
       "      <td>male</td>\n",
       "      <td>3.00</td>\n",
       "      <td>1</td>\n",
       "      <td>1</td>\n",
       "      <td>C.A. 37671</td>\n",
       "      <td>15.9000</td>\n",
       "      <td>NA</td>\n",
       "      <td>S</td>\n",
       "    </tr>\n",
       "    <tr>\n",
       "      <th>850</th>\n",
       "      <td>851</td>\n",
       "      <td>0.0</td>\n",
       "      <td>3</td>\n",
       "      <td>Andersson, Master. Sigvard Harald Elias</td>\n",
       "      <td>male</td>\n",
       "      <td>4.00</td>\n",
       "      <td>4</td>\n",
       "      <td>2</td>\n",
       "      <td>347082</td>\n",
       "      <td>31.2750</td>\n",
       "      <td>NA</td>\n",
       "      <td>S</td>\n",
       "    </tr>\n",
       "    <tr>\n",
       "      <th>618</th>\n",
       "      <td>619</td>\n",
       "      <td>1.0</td>\n",
       "      <td>2</td>\n",
       "      <td>Becker, Miss. Marion Louise</td>\n",
       "      <td>female</td>\n",
       "      <td>4.00</td>\n",
       "      <td>2</td>\n",
       "      <td>1</td>\n",
       "      <td>230136</td>\n",
       "      <td>39.0000</td>\n",
       "      <td>F4</td>\n",
       "      <td>S</td>\n",
       "    </tr>\n",
       "    <tr>\n",
       "      <th>184</th>\n",
       "      <td>185</td>\n",
       "      <td>1.0</td>\n",
       "      <td>3</td>\n",
       "      <td>Kink-Heilmann, Miss. Luise Gretchen</td>\n",
       "      <td>female</td>\n",
       "      <td>4.00</td>\n",
       "      <td>0</td>\n",
       "      <td>2</td>\n",
       "      <td>315153</td>\n",
       "      <td>22.0250</td>\n",
       "      <td>NA</td>\n",
       "      <td>S</td>\n",
       "    </tr>\n",
       "    <tr>\n",
       "      <th>171</th>\n",
       "      <td>172</td>\n",
       "      <td>0.0</td>\n",
       "      <td>3</td>\n",
       "      <td>Rice, Master. Arthur</td>\n",
       "      <td>male</td>\n",
       "      <td>4.00</td>\n",
       "      <td>4</td>\n",
       "      <td>1</td>\n",
       "      <td>382652</td>\n",
       "      <td>29.1250</td>\n",
       "      <td>NA</td>\n",
       "      <td>Q</td>\n",
       "    </tr>\n",
       "    <tr>\n",
       "      <th>750</th>\n",
       "      <td>751</td>\n",
       "      <td>1.0</td>\n",
       "      <td>2</td>\n",
       "      <td>Wells, Miss. Joan</td>\n",
       "      <td>female</td>\n",
       "      <td>4.00</td>\n",
       "      <td>1</td>\n",
       "      <td>1</td>\n",
       "      <td>29103</td>\n",
       "      <td>23.0000</td>\n",
       "      <td>NA</td>\n",
       "      <td>S</td>\n",
       "    </tr>\n",
       "    <tr>\n",
       "      <th>63</th>\n",
       "      <td>64</td>\n",
       "      <td>0.0</td>\n",
       "      <td>3</td>\n",
       "      <td>Skoog, Master. Harald</td>\n",
       "      <td>male</td>\n",
       "      <td>4.00</td>\n",
       "      <td>3</td>\n",
       "      <td>2</td>\n",
       "      <td>347088</td>\n",
       "      <td>27.9000</td>\n",
       "      <td>NA</td>\n",
       "      <td>S</td>\n",
       "    </tr>\n",
       "    <tr>\n",
       "      <th>691</th>\n",
       "      <td>692</td>\n",
       "      <td>1.0</td>\n",
       "      <td>3</td>\n",
       "      <td>Karun, Miss. Manca</td>\n",
       "      <td>female</td>\n",
       "      <td>4.00</td>\n",
       "      <td>0</td>\n",
       "      <td>1</td>\n",
       "      <td>349256</td>\n",
       "      <td>13.4167</td>\n",
       "      <td>NA</td>\n",
       "      <td>C</td>\n",
       "    </tr>\n",
       "    <tr>\n",
       "      <th>445</th>\n",
       "      <td>446</td>\n",
       "      <td>1.0</td>\n",
       "      <td>1</td>\n",
       "      <td>Dodge, Master. Washington</td>\n",
       "      <td>male</td>\n",
       "      <td>4.00</td>\n",
       "      <td>0</td>\n",
       "      <td>2</td>\n",
       "      <td>33638</td>\n",
       "      <td>81.8583</td>\n",
       "      <td>A34</td>\n",
       "      <td>S</td>\n",
       "    </tr>\n",
       "    <tr>\n",
       "      <th>10</th>\n",
       "      <td>11</td>\n",
       "      <td>1.0</td>\n",
       "      <td>3</td>\n",
       "      <td>Sandstrom, Miss. Marguerite Rut</td>\n",
       "      <td>female</td>\n",
       "      <td>4.00</td>\n",
       "      <td>1</td>\n",
       "      <td>1</td>\n",
       "      <td>PP 9549</td>\n",
       "      <td>16.7000</td>\n",
       "      <td>G6</td>\n",
       "      <td>S</td>\n",
       "    </tr>\n",
       "    <tr>\n",
       "      <th>869</th>\n",
       "      <td>870</td>\n",
       "      <td>1.0</td>\n",
       "      <td>3</td>\n",
       "      <td>Johnson, Master. Harold Theodor</td>\n",
       "      <td>male</td>\n",
       "      <td>4.00</td>\n",
       "      <td>1</td>\n",
       "      <td>1</td>\n",
       "      <td>347742</td>\n",
       "      <td>11.1333</td>\n",
       "      <td>NA</td>\n",
       "      <td>S</td>\n",
       "    </tr>\n",
       "  </tbody>\n",
       "</table>\n",
       "</div>"
      ],
      "text/plain": [
       "     PassengerId  Survived  Pclass                                      Name  \\\n",
       "354         1246       2.0       3   Dean, Miss. Elizabeth Gladys Millvina\"\"   \n",
       "201         1093       2.0       3   Danbom, Master. Gilbert Sigvard Emanuel   \n",
       "803          804       1.0       3           Thomas, Master. Assad Alexander   \n",
       "755          756       1.0       2                 Hamalainen, Master. Viljo   \n",
       "281         1173       2.0       3            Peacock, Master. Alfred Edward   \n",
       "644          645       1.0       3                    Baclini, Miss. Eugenie   \n",
       "469          470       1.0       3             Baclini, Miss. Helene Barbara   \n",
       "78            79       1.0       2             Caldwell, Master. Alden Gates   \n",
       "307         1199       2.0       3                 Aks, Master. Philip Frank   \n",
       "831          832       1.0       2           Richards, Master. George Sibley   \n",
       "250         1142       2.0       2                     West, Miss. Barbara J   \n",
       "305          306       1.0       1            Allison, Master. Hudson Trevor   \n",
       "381          382       1.0       3               Nakid, Miss. Maria (\"Mary\")   \n",
       "788          789       1.0       3                Dean, Master. Bertram Vere   \n",
       "827          828       1.0       2                     Mallet, Master. Andre   \n",
       "296         1188       2.0       2                     Laroche, Miss. Louise   \n",
       "386          387       0.0       3           Goodwin, Master. Sidney Leonard   \n",
       "183          184       1.0       2                 Becker, Master. Richard F   \n",
       "172          173       1.0       3              Johnson, Miss. Eleanor Ileen   \n",
       "164          165       0.0       3              Panula, Master. Eino Viljami   \n",
       "263         1155       2.0       3              Klasen, Miss. Gertrud Emilia   \n",
       "117         1009       2.0       3           Sandstrom, Miss. Beatrice Irene   \n",
       "7              8       0.0       3            Palsson, Master. Gosta Leonard   \n",
       "89           981       2.0       2               Wells, Master. Ralph Lester   \n",
       "284         1176       2.0       3               Rosblom, Miss. Salli Helena   \n",
       "824          825       0.0       3              Panula, Master. Urho Abraham   \n",
       "642          643       0.0       3             Skoog, Miss. Margit Elizabeth   \n",
       "479          480       1.0       3                  Hirvonen, Miss. Hildur E   \n",
       "530          531       1.0       2                  Quick, Miss. Phyllis May   \n",
       "16            17       0.0       3                      Rice, Master. Eugene   \n",
       "119          120       0.0       3         Andersson, Miss. Ellis Anna Maria   \n",
       "205          206       0.0       3                Strom, Miss. Telma Matilda   \n",
       "340          341       1.0       2            Navratil, Master. Edmond Roger   \n",
       "297          298       0.0       1              Allison, Miss. Helen Loraine   \n",
       "43            44       1.0       2  Laroche, Miss. Simonne Marie Anne Andree   \n",
       "193          194       1.0       2                Navratil, Master. Michel M   \n",
       "261          262       1.0       3         Asplund, Master. Edvin Rojj Felix   \n",
       "409         1301       2.0       3                 Peacock, Miss. Treasteall   \n",
       "374          375       0.0       3                Palsson, Miss. Stina Viola   \n",
       "407          408       1.0       2            Richards, Master. William Rowe   \n",
       "348          349       1.0       3    Coutts, Master. William Loch \"William\"   \n",
       "850          851       0.0       3   Andersson, Master. Sigvard Harald Elias   \n",
       "618          619       1.0       2               Becker, Miss. Marion Louise   \n",
       "184          185       1.0       3       Kink-Heilmann, Miss. Luise Gretchen   \n",
       "171          172       0.0       3                      Rice, Master. Arthur   \n",
       "750          751       1.0       2                         Wells, Miss. Joan   \n",
       "63            64       0.0       3                     Skoog, Master. Harald   \n",
       "691          692       1.0       3                        Karun, Miss. Manca   \n",
       "445          446       1.0       1                 Dodge, Master. Washington   \n",
       "10            11       1.0       3           Sandstrom, Miss. Marguerite Rut   \n",
       "869          870       1.0       3           Johnson, Master. Harold Theodor   \n",
       "\n",
       "        Sex   Age  SibSp  Parch              Ticket      Fare    Cabin  \\\n",
       "354  female  0.17      1      2           C.A. 2315   20.5750       NA   \n",
       "201    male  0.33      0      2              347080   14.4000       NA   \n",
       "803    male  0.42      0      1                2625    8.5167       NA   \n",
       "755    male  0.67      1      1              250649   14.5000       NA   \n",
       "281    male  0.75      1      1  SOTON/O.Q. 3101315   13.7750       NA   \n",
       "644  female  0.75      2      1                2666   19.2583       NA   \n",
       "469  female  0.75      2      1                2666   19.2583       NA   \n",
       "78     male  0.83      0      2              248738   29.0000       NA   \n",
       "307    male  0.83      0      1              392091    9.3500       NA   \n",
       "831    male  0.83      1      1               29106   18.7500       NA   \n",
       "250  female  0.92      1      2          C.A. 34651   27.7500       NA   \n",
       "305    male  0.92      1      2              113781  151.5500  C22 C26   \n",
       "381  female  1.00      0      2                2653   15.7417       NA   \n",
       "788    male  1.00      1      2           C.A. 2315   20.5750       NA   \n",
       "827    male  1.00      0      2     S.C./PARIS 2079   37.0042       NA   \n",
       "296  female  1.00      1      2       SC/Paris 2123   41.5792       NA   \n",
       "386    male  1.00      5      2             CA 2144   46.9000       NA   \n",
       "183    male  1.00      2      1              230136   39.0000       F4   \n",
       "172  female  1.00      1      1              347742   11.1333       NA   \n",
       "164    male  1.00      4      1             3101295   39.6875       NA   \n",
       "263  female  1.00      1      1              350405   12.1833       NA   \n",
       "117  female  1.00      1      1             PP 9549   16.7000       G6   \n",
       "7      male  2.00      3      1              349909   21.0750       NA   \n",
       "89     male  2.00      1      1               29103   23.0000       NA   \n",
       "284  female  2.00      1      1              370129   20.2125       NA   \n",
       "824    male  2.00      4      1             3101295   39.6875       NA   \n",
       "642  female  2.00      3      2              347088   27.9000       NA   \n",
       "479  female  2.00      0      1             3101298   12.2875       NA   \n",
       "530  female  2.00      1      1               26360   26.0000       NA   \n",
       "16     male  2.00      4      1              382652   29.1250       NA   \n",
       "119  female  2.00      4      2              347082   31.2750       NA   \n",
       "205  female  2.00      0      1              347054   10.4625       G6   \n",
       "340    male  2.00      1      1              230080   26.0000       F2   \n",
       "297  female  2.00      1      2              113781  151.5500  C22 C26   \n",
       "43   female  3.00      1      2       SC/Paris 2123   41.5792       NA   \n",
       "193    male  3.00      1      1              230080   26.0000       F2   \n",
       "261    male  3.00      4      2              347077   31.3875       NA   \n",
       "409  female  3.00      1      1  SOTON/O.Q. 3101315   13.7750       NA   \n",
       "374  female  3.00      3      1              349909   21.0750       NA   \n",
       "407    male  3.00      1      1               29106   18.7500       NA   \n",
       "348    male  3.00      1      1          C.A. 37671   15.9000       NA   \n",
       "850    male  4.00      4      2              347082   31.2750       NA   \n",
       "618  female  4.00      2      1              230136   39.0000       F4   \n",
       "184  female  4.00      0      2              315153   22.0250       NA   \n",
       "171    male  4.00      4      1              382652   29.1250       NA   \n",
       "750  female  4.00      1      1               29103   23.0000       NA   \n",
       "63     male  4.00      3      2              347088   27.9000       NA   \n",
       "691  female  4.00      0      1              349256   13.4167       NA   \n",
       "445    male  4.00      0      2               33638   81.8583      A34   \n",
       "10   female  4.00      1      1             PP 9549   16.7000       G6   \n",
       "869    male  4.00      1      1              347742   11.1333       NA   \n",
       "\n",
       "    Embarked  \n",
       "354        S  \n",
       "201        S  \n",
       "803        C  \n",
       "755        S  \n",
       "281        S  \n",
       "644        C  \n",
       "469        C  \n",
       "78         S  \n",
       "307        S  \n",
       "831        S  \n",
       "250        S  \n",
       "305        S  \n",
       "381        C  \n",
       "788        S  \n",
       "827        C  \n",
       "296        C  \n",
       "386        S  \n",
       "183        S  \n",
       "172        S  \n",
       "164        S  \n",
       "263        S  \n",
       "117        S  \n",
       "7          S  \n",
       "89         S  \n",
       "284        S  \n",
       "824        S  \n",
       "642        S  \n",
       "479        S  \n",
       "530        S  \n",
       "16         Q  \n",
       "119        S  \n",
       "205        S  \n",
       "340        S  \n",
       "297        S  \n",
       "43         C  \n",
       "193        S  \n",
       "261        S  \n",
       "409        S  \n",
       "374        S  \n",
       "407        S  \n",
       "348        S  \n",
       "850        S  \n",
       "618        S  \n",
       "184        S  \n",
       "171        Q  \n",
       "750        S  \n",
       "63         S  \n",
       "691        C  \n",
       "445        S  \n",
       "10         S  \n",
       "869        S  "
      ]
     },
     "execution_count": 24,
     "metadata": {},
     "output_type": "execute_result"
    }
   ],
   "source": [
    "df[df['Age']<5].sort_values(by='Age') # from this part we can see that this might not be an outlier.\n",
    "# Those who got age under 1.0 is new born babies"
   ]
  },
  {
   "cell_type": "code",
   "execution_count": 25,
   "id": "false-compromise",
   "metadata": {},
   "outputs": [
    {
     "data": {
      "text/plain": [
       "count    1309.000000\n",
       "mean       33.280206\n",
       "std        51.741830\n",
       "min         0.000000\n",
       "25%         7.895800\n",
       "50%        14.454200\n",
       "75%        31.275000\n",
       "max       512.329200\n",
       "Name: Fare, dtype: float64"
      ]
     },
     "execution_count": 25,
     "metadata": {},
     "output_type": "execute_result"
    }
   ],
   "source": [
    "df['Fare'].describe() # There are some fare extremly high, check those one"
   ]
  },
  {
   "cell_type": "code",
   "execution_count": 26,
   "id": "jewish-brunswick",
   "metadata": {},
   "outputs": [
    {
     "data": {
      "text/html": [
       "<div>\n",
       "<style scoped>\n",
       "    .dataframe tbody tr th:only-of-type {\n",
       "        vertical-align: middle;\n",
       "    }\n",
       "\n",
       "    .dataframe tbody tr th {\n",
       "        vertical-align: top;\n",
       "    }\n",
       "\n",
       "    .dataframe thead th {\n",
       "        text-align: right;\n",
       "    }\n",
       "</style>\n",
       "<table border=\"1\" class=\"dataframe\">\n",
       "  <thead>\n",
       "    <tr style=\"text-align: right;\">\n",
       "      <th></th>\n",
       "      <th>PassengerId</th>\n",
       "      <th>Survived</th>\n",
       "      <th>Pclass</th>\n",
       "      <th>Name</th>\n",
       "      <th>Sex</th>\n",
       "      <th>Age</th>\n",
       "      <th>SibSp</th>\n",
       "      <th>Parch</th>\n",
       "      <th>Ticket</th>\n",
       "      <th>Fare</th>\n",
       "      <th>Cabin</th>\n",
       "      <th>Embarked</th>\n",
       "    </tr>\n",
       "  </thead>\n",
       "  <tbody>\n",
       "    <tr>\n",
       "      <th>737</th>\n",
       "      <td>738</td>\n",
       "      <td>1.0</td>\n",
       "      <td>1</td>\n",
       "      <td>Lesurer, Mr. Gustave J</td>\n",
       "      <td>male</td>\n",
       "      <td>35.0</td>\n",
       "      <td>0</td>\n",
       "      <td>0</td>\n",
       "      <td>PC 17755</td>\n",
       "      <td>512.3292</td>\n",
       "      <td>B101</td>\n",
       "      <td>C</td>\n",
       "    </tr>\n",
       "    <tr>\n",
       "      <th>343</th>\n",
       "      <td>1235</td>\n",
       "      <td>2.0</td>\n",
       "      <td>1</td>\n",
       "      <td>Cardeza, Mrs. James Warburton Martinez (Charlo...</td>\n",
       "      <td>female</td>\n",
       "      <td>58.0</td>\n",
       "      <td>0</td>\n",
       "      <td>1</td>\n",
       "      <td>PC 17755</td>\n",
       "      <td>512.3292</td>\n",
       "      <td>B51 B53 B55</td>\n",
       "      <td>C</td>\n",
       "    </tr>\n",
       "    <tr>\n",
       "      <th>258</th>\n",
       "      <td>259</td>\n",
       "      <td>1.0</td>\n",
       "      <td>1</td>\n",
       "      <td>Ward, Miss. Anna</td>\n",
       "      <td>female</td>\n",
       "      <td>35.0</td>\n",
       "      <td>0</td>\n",
       "      <td>0</td>\n",
       "      <td>PC 17755</td>\n",
       "      <td>512.3292</td>\n",
       "      <td>NA</td>\n",
       "      <td>C</td>\n",
       "    </tr>\n",
       "    <tr>\n",
       "      <th>679</th>\n",
       "      <td>680</td>\n",
       "      <td>1.0</td>\n",
       "      <td>1</td>\n",
       "      <td>Cardeza, Mr. Thomas Drake Martinez</td>\n",
       "      <td>male</td>\n",
       "      <td>36.0</td>\n",
       "      <td>0</td>\n",
       "      <td>1</td>\n",
       "      <td>PC 17755</td>\n",
       "      <td>512.3292</td>\n",
       "      <td>B51 B53 B55</td>\n",
       "      <td>C</td>\n",
       "    </tr>\n",
       "    <tr>\n",
       "      <th>438</th>\n",
       "      <td>439</td>\n",
       "      <td>0.0</td>\n",
       "      <td>1</td>\n",
       "      <td>Fortune, Mr. Mark</td>\n",
       "      <td>male</td>\n",
       "      <td>64.0</td>\n",
       "      <td>1</td>\n",
       "      <td>4</td>\n",
       "      <td>19950</td>\n",
       "      <td>263.0000</td>\n",
       "      <td>C23 C25 C27</td>\n",
       "      <td>S</td>\n",
       "    </tr>\n",
       "    <tr>\n",
       "      <th>27</th>\n",
       "      <td>28</td>\n",
       "      <td>0.0</td>\n",
       "      <td>1</td>\n",
       "      <td>Fortune, Mr. Charles Alexander</td>\n",
       "      <td>male</td>\n",
       "      <td>19.0</td>\n",
       "      <td>3</td>\n",
       "      <td>2</td>\n",
       "      <td>19950</td>\n",
       "      <td>263.0000</td>\n",
       "      <td>C23 C25 C27</td>\n",
       "      <td>S</td>\n",
       "    </tr>\n",
       "    <tr>\n",
       "      <th>341</th>\n",
       "      <td>342</td>\n",
       "      <td>1.0</td>\n",
       "      <td>1</td>\n",
       "      <td>Fortune, Miss. Alice Elizabeth</td>\n",
       "      <td>female</td>\n",
       "      <td>24.0</td>\n",
       "      <td>3</td>\n",
       "      <td>2</td>\n",
       "      <td>19950</td>\n",
       "      <td>263.0000</td>\n",
       "      <td>C23 C25 C27</td>\n",
       "      <td>S</td>\n",
       "    </tr>\n",
       "    <tr>\n",
       "      <th>53</th>\n",
       "      <td>945</td>\n",
       "      <td>2.0</td>\n",
       "      <td>1</td>\n",
       "      <td>Fortune, Miss. Ethel Flora</td>\n",
       "      <td>female</td>\n",
       "      <td>28.0</td>\n",
       "      <td>3</td>\n",
       "      <td>2</td>\n",
       "      <td>19950</td>\n",
       "      <td>263.0000</td>\n",
       "      <td>C23 C25 C27</td>\n",
       "      <td>S</td>\n",
       "    </tr>\n",
       "    <tr>\n",
       "      <th>88</th>\n",
       "      <td>89</td>\n",
       "      <td>1.0</td>\n",
       "      <td>1</td>\n",
       "      <td>Fortune, Miss. Mabel Helen</td>\n",
       "      <td>female</td>\n",
       "      <td>23.0</td>\n",
       "      <td>3</td>\n",
       "      <td>2</td>\n",
       "      <td>19950</td>\n",
       "      <td>263.0000</td>\n",
       "      <td>C23 C25 C27</td>\n",
       "      <td>S</td>\n",
       "    </tr>\n",
       "    <tr>\n",
       "      <th>69</th>\n",
       "      <td>961</td>\n",
       "      <td>2.0</td>\n",
       "      <td>1</td>\n",
       "      <td>Fortune, Mrs. Mark (Mary McDougald)</td>\n",
       "      <td>female</td>\n",
       "      <td>60.0</td>\n",
       "      <td>1</td>\n",
       "      <td>4</td>\n",
       "      <td>19950</td>\n",
       "      <td>263.0000</td>\n",
       "      <td>C23 C25 C27</td>\n",
       "      <td>S</td>\n",
       "    </tr>\n",
       "  </tbody>\n",
       "</table>\n",
       "</div>"
      ],
      "text/plain": [
       "     PassengerId  Survived  Pclass  \\\n",
       "737          738       1.0       1   \n",
       "343         1235       2.0       1   \n",
       "258          259       1.0       1   \n",
       "679          680       1.0       1   \n",
       "438          439       0.0       1   \n",
       "27            28       0.0       1   \n",
       "341          342       1.0       1   \n",
       "53           945       2.0       1   \n",
       "88            89       1.0       1   \n",
       "69           961       2.0       1   \n",
       "\n",
       "                                                  Name     Sex   Age  SibSp  \\\n",
       "737                             Lesurer, Mr. Gustave J    male  35.0      0   \n",
       "343  Cardeza, Mrs. James Warburton Martinez (Charlo...  female  58.0      0   \n",
       "258                                   Ward, Miss. Anna  female  35.0      0   \n",
       "679                 Cardeza, Mr. Thomas Drake Martinez    male  36.0      0   \n",
       "438                                  Fortune, Mr. Mark    male  64.0      1   \n",
       "27                      Fortune, Mr. Charles Alexander    male  19.0      3   \n",
       "341                     Fortune, Miss. Alice Elizabeth  female  24.0      3   \n",
       "53                          Fortune, Miss. Ethel Flora  female  28.0      3   \n",
       "88                          Fortune, Miss. Mabel Helen  female  23.0      3   \n",
       "69                 Fortune, Mrs. Mark (Mary McDougald)  female  60.0      1   \n",
       "\n",
       "     Parch    Ticket      Fare        Cabin Embarked  \n",
       "737      0  PC 17755  512.3292         B101        C  \n",
       "343      1  PC 17755  512.3292  B51 B53 B55        C  \n",
       "258      0  PC 17755  512.3292           NA        C  \n",
       "679      1  PC 17755  512.3292  B51 B53 B55        C  \n",
       "438      4     19950  263.0000  C23 C25 C27        S  \n",
       "27       2     19950  263.0000  C23 C25 C27        S  \n",
       "341      2     19950  263.0000  C23 C25 C27        S  \n",
       "53       2     19950  263.0000  C23 C25 C27        S  \n",
       "88       2     19950  263.0000  C23 C25 C27        S  \n",
       "69       4     19950  263.0000  C23 C25 C27        S  "
      ]
     },
     "execution_count": 26,
     "metadata": {},
     "output_type": "execute_result"
    }
   ],
   "source": [
    "df.sort_values(by='Fare',ascending=False).head(10) # Still, I don't think this is the outlier\n",
    "#Their ticket number are the same so I assume they bought some kind of \"group tickets\""
   ]
  },
  {
   "cell_type": "code",
   "execution_count": 27,
   "id": "inner-cannon",
   "metadata": {},
   "outputs": [
    {
     "data": {
      "text/plain": [
       "count    1309.000000\n",
       "mean        0.498854\n",
       "std         1.041658\n",
       "min         0.000000\n",
       "25%         0.000000\n",
       "50%         0.000000\n",
       "75%         1.000000\n",
       "max         8.000000\n",
       "Name: SibSp, dtype: float64"
      ]
     },
     "execution_count": 27,
     "metadata": {},
     "output_type": "execute_result"
    }
   ],
   "source": [
    "df['SibSp'].describe()\n",
    "# Sbling numbers seems reasonable. There might be some family planning to take family trip"
   ]
  },
  {
   "cell_type": "code",
   "execution_count": 28,
   "id": "adequate-august",
   "metadata": {},
   "outputs": [
    {
     "data": {
      "text/plain": [
       "count    1309.000000\n",
       "mean        0.385027\n",
       "std         0.865560\n",
       "min         0.000000\n",
       "25%         0.000000\n",
       "50%         0.000000\n",
       "75%         0.000000\n",
       "max         9.000000\n",
       "Name: Parch, dtype: float64"
      ]
     },
     "execution_count": 28,
     "metadata": {},
     "output_type": "execute_result"
    }
   ],
   "source": [
    "df['Parch'].describe() \n",
    "# If above Sibling and spouse number has max of 8, then Parch has max number of 9 is reasonable"
   ]
  },
  {
   "cell_type": "markdown",
   "id": "hidden-tracker",
   "metadata": {},
   "source": [
    "This data is pretty clean"
   ]
  },
  {
   "cell_type": "markdown",
   "id": "secure-artwork",
   "metadata": {},
   "source": [
    "## Socio-Economic Status"
   ]
  },
  {
   "cell_type": "markdown",
   "id": "seasonal-words",
   "metadata": {},
   "source": [
    "I'd like to assume SES with PClass First. Then make a heatmap of correlation of SES, age, gender, family numbers."
   ]
  },
  {
   "cell_type": "code",
   "execution_count": 29,
   "id": "preliminary-guarantee",
   "metadata": {},
   "outputs": [],
   "source": [
    "df['Family'] = df['SibSp']+df['Parch']+1 # creater family numbers by adding siblings parents and themselve"
   ]
  },
  {
   "cell_type": "code",
   "execution_count": 30,
   "id": "timely-exploration",
   "metadata": {},
   "outputs": [],
   "source": [
    "map = {\"male\":1,\"female\":0}\n",
    "df['Sex'] = df['Sex'].map(map)"
   ]
  },
  {
   "cell_type": "code",
   "execution_count": 31,
   "id": "employed-arizona",
   "metadata": {},
   "outputs": [
    {
     "data": {
      "text/plain": [
       "<AxesSubplot:>"
      ]
     },
     "execution_count": 31,
     "metadata": {},
     "output_type": "execute_result"
    },
    {
     "data": {
      "image/png": "[encoded data removed]",
      "text/plain": [
       "<Figure size 432x288 with 2 Axes>"
      ]
     },
     "metadata": {
      "needs_background": "light"
     },
     "output_type": "display_data"
    }
   ],
   "source": [
    "sns.heatmap(df.loc[:,['Pclass','Age','Sex','Family']].corr(),annot=True)"
   ]
  },
  {
   "cell_type": "markdown",
   "id": "integral-banks",
   "metadata": {},
   "source": [
    "From above data we see that a young man can have high SES on that boat.\n",
    "\n",
    "Pclass get higher when age get lower, so that means 1 p class has more young people.\n",
    "p class has slightly correlation with gender, which means more man has higher SES\n",
    "Pclass doesn't have much relationship with family member. Maybe it is because not a lot of family are on this boat."
   ]
  },
  {
   "cell_type": "markdown",
   "id": "surprised-upgrade",
   "metadata": {},
   "source": [
    "## Survival distribution to Age, Gender and SES"
   ]
  },
  {
   "cell_type": "code",
   "execution_count": 32,
   "id": "independent-seminar",
   "metadata": {},
   "outputs": [
    {
     "data": {
      "image/png": "[encoded data removed]",
      "text/plain": [
       "<Figure size 432x288 with 1 Axes>"
      ]
     },
     "metadata": {
      "needs_background": "light"
     },
     "output_type": "display_data"
    }
   ],
   "source": [
    "ins = df[df['Survived']==1]['Age'].value_counts()\n",
    "plt.bar(ins.index,ins)\n",
    "plt.show()"
   ]
  },
  {
   "cell_type": "markdown",
   "id": "above-racing",
   "metadata": {},
   "source": [
    "We can see from this plot that age around 20-40 have higher survive rate"
   ]
  },
  {
   "cell_type": "code",
   "execution_count": 33,
   "id": "willing-operation",
   "metadata": {},
   "outputs": [
    {
     "data": {
      "image/png": "[encoded data removed]",
      "text/plain": [
       "<Figure size 432x288 with 1 Axes>"
      ]
     },
     "metadata": {
      "needs_background": "light"
     },
     "output_type": "display_data"
    }
   ],
   "source": [
    "ins = df[df['Survived']==1]['Sex'].value_counts()\n",
    "plt.bar(ins.index,ins)\n",
    "plt.show()"
   ]
  },
  {
   "cell_type": "markdown",
   "id": "classified-fraction",
   "metadata": {},
   "source": [
    "0 is women and 1 is man. We can see that women have higher survive rate than man"
   ]
  },
  {
   "cell_type": "code",
   "execution_count": 34,
   "id": "computational-lease",
   "metadata": {},
   "outputs": [
    {
     "data": {
      "image/png": "[encoded data removed]",
      "text/plain": [
       "<Figure size 432x288 with 1 Axes>"
      ]
     },
     "metadata": {
      "needs_background": "light"
     },
     "output_type": "display_data"
    }
   ],
   "source": [
    "ins = df[df['Survived']==1]['Pclass'].value_counts()\n",
    "plt.bar(ins.index,ins)\n",
    "plt.show()"
   ]
  },
  {
   "cell_type": "markdown",
   "id": "discrete-syndication",
   "metadata": {},
   "source": [
    "We can see that class 1 and 3 have higher to survive. We also know that there are not a lot of people in class 1 and lots of people in class 3. This might be one factor that cause this plot to look like this."
   ]
  },
  {
   "cell_type": "markdown",
   "id": "bound-disabled",
   "metadata": {},
   "source": [
    "## Does family size affect survival chance"
   ]
  },
  {
   "cell_type": "code",
   "execution_count": 35,
   "id": "built-magnitude",
   "metadata": {},
   "outputs": [
    {
     "data": {
      "text/plain": [
       "<AxesSubplot:xlabel='Family'>"
      ]
     },
     "execution_count": 35,
     "metadata": {},
     "output_type": "execute_result"
    },
    {
     "data": {
      "image/png": "[encoded data removed]",
      "text/plain": [
       "<Figure size 720x648 with 1 Axes>"
      ]
     },
     "metadata": {
      "needs_background": "light"
     },
     "output_type": "display_data"
    }
   ],
   "source": [
    "df[df['Survived']!=2][['Family','Survived']].groupby('Family').mean().plot(kind='bar',figsize=(10,9))"
   ]
  },
  {
   "cell_type": "markdown",
   "id": "limiting-mississippi",
   "metadata": {},
   "source": [
    "People that have more faily on this ship have relative low survive rate. The highest survival rate is between family size of 2-4"
   ]
  },
  {
   "cell_type": "markdown",
   "id": "analyzed-collectible",
   "metadata": {},
   "source": [
    "## Does Ticket price have to do with survival rate"
   ]
  },
  {
   "cell_type": "code",
   "execution_count": 36,
   "id": "controlled-mixture",
   "metadata": {
    "scrolled": false
   },
   "outputs": [
    {
     "data": {
      "text/plain": [
       "<AxesSubplot:xlabel='Fare Bucket'>"
      ]
     },
     "execution_count": 36,
     "metadata": {},
     "output_type": "execute_result"
    },
    {
     "data": {
      "image/png": "[encoded data removed]",
      "text/plain": [
       "<Figure size 720x648 with 1 Axes>"
      ]
     },
     "metadata": {
      "needs_background": "light"
     },
     "output_type": "display_data"
    }
   ],
   "source": [
    "df['Fare Bucket'] = pd.cut(df['Fare'],15)\n",
    "\n",
    "df[df['Survived']!=2][['Fare Bucket','Survived']].groupby('Fare Bucket').mean().plot(kind='bar',figsize=(10,9))"
   ]
  },
  {
   "cell_type": "markdown",
   "id": "automatic-davis",
   "metadata": {},
   "source": [
    "Here is an interesting result. People who payed higher ticker fare has relativly high survive chance. Maybe high price ticket get to sit next to the lifeboat"
   ]
  },
  {
   "cell_type": "markdown",
   "id": "acting-cloud",
   "metadata": {},
   "source": [
    "# What features seem to be the most important ones?"
   ]
  },
  {
   "cell_type": "code",
   "execution_count": 37,
   "id": "aging-atlanta",
   "metadata": {},
   "outputs": [],
   "source": [
    "from scipy.stats import pearsonr\n",
    "import matplotlib.pyplot as plot"
   ]
  },
  {
   "cell_type": "code",
   "execution_count": 38,
   "id": "interracial-hearts",
   "metadata": {},
   "outputs": [
    {
     "name": "stdout",
     "output_type": "stream",
     "text": [
      "Survived and Pclass have a pearson correlation:  0.15212759559351285\n",
      "Survived and Sex have a pearson correlation:  0.21986327977787146\n",
      "Survived and Age have a pearson correlation:  0.013025324581192503\n",
      "Survived and SibSp have a pearson correlation:  0.044390798247569946\n",
      "Survived and Parch have a pearson correlation:  0.03458569342897236\n",
      "Survived and Fare have a pearson correlation:  0.12261880113668758\n",
      "Survived and Embarked have a pearson correlation:  0.10499151384505759\n",
      "Survived and Family have a pearson correlation:  0.010295303564330038\n"
     ]
    },
    {
     "data": {
      "image/png": "[encoded data removed]",
      "text/plain": [
       "<Figure size 576x576 with 1 Axes>"
      ]
     },
     "metadata": {
      "needs_background": "light"
     },
     "output_type": "display_data"
    }
   ],
   "source": [
    "# map embarked harbor into number\n",
    "labels = list(df['Embarked'].unique())\n",
    "df['Embarked'] = df['Embarked'].apply(lambda n: labels.index(n))\n",
    "# Store the features and init a list for storing the results\n",
    "features = ['Pclass','Sex','Age','SibSp','Parch','Fare','Embarked','Family']\n",
    "results = []\n",
    "# Loop through the features, calculate the Pearson's Correlation Coefficient and store them\n",
    "for x in features:\n",
    "    # I use the absolute value here, since I want to compare the correlation between features,\n",
    "    #  so it does not matter if it's positive or negative\n",
    "    rela_temp = abs(pearsonr(df['Survived'], df[x])[0])\n",
    "    print(\"Survived and\", x ,\"have a pearson correlation: \",rela_temp)\n",
    "    results.append(rela_temp)\n",
    "tempdata = {\"Features\": features, \"Pearson's Correlation Coefficient\": results} # make it as a dictionary\n",
    "plotframe = pd.DataFrame(data=tempdata) # and then create a dataframe\n",
    "titlestr = \"Features and Pearson's Correlation Coefficient of each of them\" # make title text\n",
    "plotframe.plot.bar(x='Features', y=\"Pearson's Correlation Coefficient\", rot=0, title=titlestr, figsize=(8,8)) # create a bar plot based on the dictionary\n",
    "plot.show(block=True) # show the plot"
   ]
  },
  {
   "cell_type": "code",
   "execution_count": 39,
   "id": "administrative-breed",
   "metadata": {},
   "outputs": [],
   "source": [
    "# As shown in the plot above, all the features do not have a strong correlation with survive condition.\n",
    "# And the highest correlation is between survived and Sex.\n",
    "# I think that's because men give women the priority to escape at the time, so there are more survived women than men."
   ]
  },
  {
   "cell_type": "markdown",
   "id": "constitutional-packaging",
   "metadata": {},
   "source": [
    "# How can you extract information from the non-numerical features?"
   ]
  },
  {
   "cell_type": "code",
   "execution_count": 40,
   "id": "drawn-bacon",
   "metadata": {},
   "outputs": [],
   "source": [
    "# There are not too many non-numerical features in the dataframe.\n",
    "# First, Name is completely useless since of course the name will not affect the survive rate, so we drop it.\n",
    "# And for Sex, there are only 'female' and 'male' in the dataframe, so we represent them as 0 and 1.\n",
    "# And for Ticket and Cabin, we deal with them while calculating the socio-economic status.\n",
    "# Then, the Embarked as well has only three unique values. So we record it as 0, 1, and 2."
   ]
  },
  {
   "cell_type": "code",
   "execution_count": null,
   "id": "minus-video",
   "metadata": {},
   "outputs": [],
   "source": []
  },
  {
   "cell_type": "code",
   "execution_count": null,
   "id": "missing-elimination",
   "metadata": {},
   "outputs": [],
   "source": []
  },
  {
   "cell_type": "markdown",
   "id": "equivalent-possibility",
   "metadata": {},
   "source": [
    "## Modeling"
   ]
  },
  {
   "cell_type": "code",
   "execution_count": 41,
   "id": "brutal-tender",
   "metadata": {
    "scrolled": true
   },
   "outputs": [],
   "source": [
    "# First drop/map strings\n",
    "df.drop('Name',axis=1,inplace=True) # name can't help with survival rate"
   ]
  },
  {
   "cell_type": "markdown",
   "id": "downtown-construction",
   "metadata": {},
   "source": [
    "Ticket numbers are formed up by cabin informations according to this link:\n",
    "https://www.encyclopedia-titanica.org/cabins.html\n",
    "So i will drop the tickets part incase it have some other high correlation with Cabin and other features"
   ]
  },
  {
   "cell_type": "code",
   "execution_count": 42,
   "id": "subject-warehouse",
   "metadata": {},
   "outputs": [],
   "source": [
    "df.drop('Ticket',axis=1,inplace=True)"
   ]
  },
  {
   "cell_type": "code",
   "execution_count": 43,
   "id": "animated-august",
   "metadata": {},
   "outputs": [],
   "source": [
    "# drop fare bucket also, it's correlated with Fare\n",
    "df.drop('Fare Bucket',axis=1,inplace=True)"
   ]
  },
  {
   "cell_type": "code",
   "execution_count": 44,
   "id": "reduced-weather",
   "metadata": {},
   "outputs": [],
   "source": [
    "# map embarked harbor into number\n",
    "labels = list(df['Embarked'].unique())\n",
    "df['Embarked'] = df['Embarked'].apply(lambda n: labels.index(n))"
   ]
  },
  {
   "cell_type": "code",
   "execution_count": 45,
   "id": "exempt-dividend",
   "metadata": {},
   "outputs": [],
   "source": [
    "# from Cabin, extract Deck letter and room number. If mnltiply exist only extract first one\n",
    "df['Deck'] = df['Cabin'].str.slice(0,1)\n",
    "df['Room'] = df['Cabin'].str.slice(1,5).str.extract(\"([0-9]+)\",expand=False).astype('float')\n",
    "df['Room'].fillna('0',inplace=True)"
   ]
  },
  {
   "cell_type": "code",
   "execution_count": 46,
   "id": "partial-scottish",
   "metadata": {},
   "outputs": [],
   "source": [
    "# map deck letter into numbers\n",
    "labels = list(df['Deck'].unique())\n",
    "df['Deck'] = df['Deck'].apply(lambda n: labels.index(n))"
   ]
  },
  {
   "cell_type": "code",
   "execution_count": 47,
   "id": "casual-heath",
   "metadata": {},
   "outputs": [],
   "source": [
    "df['Cabin'] = df['Cabin'].apply(lambda x: 0 if x == 'NA' else 1) \n",
    "# Change cabin, if passenger havea cabin map to 1 other wise 0"
   ]
  },
  {
   "cell_type": "code",
   "execution_count": 48,
   "id": "promotional-debate",
   "metadata": {},
   "outputs": [],
   "source": [
    "df= df.astype('float32')"
   ]
  },
  {
   "cell_type": "code",
   "execution_count": 49,
   "id": "grand-melbourne",
   "metadata": {},
   "outputs": [
    {
     "data": {
      "text/html": [
       "<div>\n",
       "<style scoped>\n",
       "    .dataframe tbody tr th:only-of-type {\n",
       "        vertical-align: middle;\n",
       "    }\n",
       "\n",
       "    .dataframe tbody tr th {\n",
       "        vertical-align: top;\n",
       "    }\n",
       "\n",
       "    .dataframe thead th {\n",
       "        text-align: right;\n",
       "    }\n",
       "</style>\n",
       "<table border=\"1\" class=\"dataframe\">\n",
       "  <thead>\n",
       "    <tr style=\"text-align: right;\">\n",
       "      <th></th>\n",
       "      <th>PassengerId</th>\n",
       "      <th>Survived</th>\n",
       "      <th>Pclass</th>\n",
       "      <th>Sex</th>\n",
       "      <th>Age</th>\n",
       "      <th>SibSp</th>\n",
       "      <th>Parch</th>\n",
       "      <th>Fare</th>\n",
       "      <th>Cabin</th>\n",
       "      <th>Embarked</th>\n",
       "      <th>Family</th>\n",
       "      <th>Deck</th>\n",
       "      <th>Room</th>\n",
       "    </tr>\n",
       "  </thead>\n",
       "  <tbody>\n",
       "    <tr>\n",
       "      <th>0</th>\n",
       "      <td>1.0</td>\n",
       "      <td>0.0</td>\n",
       "      <td>3.0</td>\n",
       "      <td>1.0</td>\n",
       "      <td>22.0</td>\n",
       "      <td>1.0</td>\n",
       "      <td>0.0</td>\n",
       "      <td>7.250000</td>\n",
       "      <td>0.0</td>\n",
       "      <td>0.0</td>\n",
       "      <td>2.0</td>\n",
       "      <td>0.0</td>\n",
       "      <td>0.0</td>\n",
       "    </tr>\n",
       "    <tr>\n",
       "      <th>1</th>\n",
       "      <td>2.0</td>\n",
       "      <td>1.0</td>\n",
       "      <td>1.0</td>\n",
       "      <td>0.0</td>\n",
       "      <td>38.0</td>\n",
       "      <td>1.0</td>\n",
       "      <td>0.0</td>\n",
       "      <td>71.283302</td>\n",
       "      <td>1.0</td>\n",
       "      <td>1.0</td>\n",
       "      <td>2.0</td>\n",
       "      <td>1.0</td>\n",
       "      <td>85.0</td>\n",
       "    </tr>\n",
       "    <tr>\n",
       "      <th>2</th>\n",
       "      <td>3.0</td>\n",
       "      <td>1.0</td>\n",
       "      <td>3.0</td>\n",
       "      <td>0.0</td>\n",
       "      <td>26.0</td>\n",
       "      <td>0.0</td>\n",
       "      <td>0.0</td>\n",
       "      <td>7.925000</td>\n",
       "      <td>0.0</td>\n",
       "      <td>0.0</td>\n",
       "      <td>1.0</td>\n",
       "      <td>0.0</td>\n",
       "      <td>0.0</td>\n",
       "    </tr>\n",
       "    <tr>\n",
       "      <th>3</th>\n",
       "      <td>4.0</td>\n",
       "      <td>1.0</td>\n",
       "      <td>1.0</td>\n",
       "      <td>0.0</td>\n",
       "      <td>35.0</td>\n",
       "      <td>1.0</td>\n",
       "      <td>0.0</td>\n",
       "      <td>53.099998</td>\n",
       "      <td>1.0</td>\n",
       "      <td>0.0</td>\n",
       "      <td>2.0</td>\n",
       "      <td>1.0</td>\n",
       "      <td>123.0</td>\n",
       "    </tr>\n",
       "    <tr>\n",
       "      <th>4</th>\n",
       "      <td>5.0</td>\n",
       "      <td>0.0</td>\n",
       "      <td>3.0</td>\n",
       "      <td>1.0</td>\n",
       "      <td>35.0</td>\n",
       "      <td>0.0</td>\n",
       "      <td>0.0</td>\n",
       "      <td>8.050000</td>\n",
       "      <td>0.0</td>\n",
       "      <td>0.0</td>\n",
       "      <td>1.0</td>\n",
       "      <td>0.0</td>\n",
       "      <td>0.0</td>\n",
       "    </tr>\n",
       "  </tbody>\n",
       "</table>\n",
       "</div>"
      ],
      "text/plain": [
       "   PassengerId  Survived  Pclass  Sex   Age  SibSp  Parch       Fare  Cabin  \\\n",
       "0          1.0       0.0     3.0  1.0  22.0    1.0    0.0   7.250000    0.0   \n",
       "1          2.0       1.0     1.0  0.0  38.0    1.0    0.0  71.283302    1.0   \n",
       "2          3.0       1.0     3.0  0.0  26.0    0.0    0.0   7.925000    0.0   \n",
       "3          4.0       1.0     1.0  0.0  35.0    1.0    0.0  53.099998    1.0   \n",
       "4          5.0       0.0     3.0  1.0  35.0    0.0    0.0   8.050000    0.0   \n",
       "\n",
       "   Embarked  Family  Deck   Room  \n",
       "0       0.0     2.0   0.0    0.0  \n",
       "1       1.0     2.0   1.0   85.0  \n",
       "2       0.0     1.0   0.0    0.0  \n",
       "3       0.0     2.0   1.0  123.0  \n",
       "4       0.0     1.0   0.0    0.0  "
      ]
     },
     "execution_count": 49,
     "metadata": {},
     "output_type": "execute_result"
    }
   ],
   "source": [
    "df.head() # check"
   ]
  },
  {
   "cell_type": "markdown",
   "id": "auburn-planet",
   "metadata": {},
   "source": [
    "### Re-Split train test data sets"
   ]
  },
  {
   "cell_type": "code",
   "execution_count": 50,
   "id": "insured-gibraltar",
   "metadata": {},
   "outputs": [
    {
     "data": {
      "text/plain": [
       "(891, 12)"
      ]
     },
     "execution_count": 50,
     "metadata": {},
     "output_type": "execute_result"
    }
   ],
   "source": [
    "df1.shape # get both two train test set index"
   ]
  },
  {
   "cell_type": "code",
   "execution_count": 51,
   "id": "pending-dispute",
   "metadata": {},
   "outputs": [
    {
     "data": {
      "text/plain": [
       "(418, 11)"
      ]
     },
     "execution_count": 51,
     "metadata": {},
     "output_type": "execute_result"
    }
   ],
   "source": [
    "df2.shape"
   ]
  },
  {
   "cell_type": "code",
   "execution_count": 52,
   "id": "technical-toddler",
   "metadata": {},
   "outputs": [
    {
     "data": {
      "text/html": [
       "<div>\n",
       "<style scoped>\n",
       "    .dataframe tbody tr th:only-of-type {\n",
       "        vertical-align: middle;\n",
       "    }\n",
       "\n",
       "    .dataframe tbody tr th {\n",
       "        vertical-align: top;\n",
       "    }\n",
       "\n",
       "    .dataframe thead th {\n",
       "        text-align: right;\n",
       "    }\n",
       "</style>\n",
       "<table border=\"1\" class=\"dataframe\">\n",
       "  <thead>\n",
       "    <tr style=\"text-align: right;\">\n",
       "      <th></th>\n",
       "      <th>PassengerId</th>\n",
       "      <th>Pclass</th>\n",
       "      <th>Name</th>\n",
       "      <th>Sex</th>\n",
       "      <th>Age</th>\n",
       "      <th>SibSp</th>\n",
       "      <th>Parch</th>\n",
       "      <th>Ticket</th>\n",
       "      <th>Fare</th>\n",
       "      <th>Cabin</th>\n",
       "      <th>Embarked</th>\n",
       "    </tr>\n",
       "  </thead>\n",
       "  <tbody>\n",
       "    <tr>\n",
       "      <th>0</th>\n",
       "      <td>892</td>\n",
       "      <td>3</td>\n",
       "      <td>Kelly, Mr. James</td>\n",
       "      <td>male</td>\n",
       "      <td>34.5</td>\n",
       "      <td>0</td>\n",
       "      <td>0</td>\n",
       "      <td>330911</td>\n",
       "      <td>7.8292</td>\n",
       "      <td>NaN</td>\n",
       "      <td>Q</td>\n",
       "    </tr>\n",
       "    <tr>\n",
       "      <th>1</th>\n",
       "      <td>893</td>\n",
       "      <td>3</td>\n",
       "      <td>Wilkes, Mrs. James (Ellen Needs)</td>\n",
       "      <td>female</td>\n",
       "      <td>47.0</td>\n",
       "      <td>1</td>\n",
       "      <td>0</td>\n",
       "      <td>363272</td>\n",
       "      <td>7.0000</td>\n",
       "      <td>NaN</td>\n",
       "      <td>S</td>\n",
       "    </tr>\n",
       "    <tr>\n",
       "      <th>2</th>\n",
       "      <td>894</td>\n",
       "      <td>2</td>\n",
       "      <td>Myles, Mr. Thomas Francis</td>\n",
       "      <td>male</td>\n",
       "      <td>62.0</td>\n",
       "      <td>0</td>\n",
       "      <td>0</td>\n",
       "      <td>240276</td>\n",
       "      <td>9.6875</td>\n",
       "      <td>NaN</td>\n",
       "      <td>Q</td>\n",
       "    </tr>\n",
       "    <tr>\n",
       "      <th>3</th>\n",
       "      <td>895</td>\n",
       "      <td>3</td>\n",
       "      <td>Wirz, Mr. Albert</td>\n",
       "      <td>male</td>\n",
       "      <td>27.0</td>\n",
       "      <td>0</td>\n",
       "      <td>0</td>\n",
       "      <td>315154</td>\n",
       "      <td>8.6625</td>\n",
       "      <td>NaN</td>\n",
       "      <td>S</td>\n",
       "    </tr>\n",
       "    <tr>\n",
       "      <th>4</th>\n",
       "      <td>896</td>\n",
       "      <td>3</td>\n",
       "      <td>Hirvonen, Mrs. Alexander (Helga E Lindqvist)</td>\n",
       "      <td>female</td>\n",
       "      <td>22.0</td>\n",
       "      <td>1</td>\n",
       "      <td>1</td>\n",
       "      <td>3101298</td>\n",
       "      <td>12.2875</td>\n",
       "      <td>NaN</td>\n",
       "      <td>S</td>\n",
       "    </tr>\n",
       "  </tbody>\n",
       "</table>\n",
       "</div>"
      ],
      "text/plain": [
       "   PassengerId  Pclass                                          Name     Sex  \\\n",
       "0          892       3                              Kelly, Mr. James    male   \n",
       "1          893       3              Wilkes, Mrs. James (Ellen Needs)  female   \n",
       "2          894       2                     Myles, Mr. Thomas Francis    male   \n",
       "3          895       3                              Wirz, Mr. Albert    male   \n",
       "4          896       3  Hirvonen, Mrs. Alexander (Helga E Lindqvist)  female   \n",
       "\n",
       "    Age  SibSp  Parch   Ticket     Fare Cabin Embarked  \n",
       "0  34.5      0      0   330911   7.8292   NaN        Q  \n",
       "1  47.0      1      0   363272   7.0000   NaN        S  \n",
       "2  62.0      0      0   240276   9.6875   NaN        Q  \n",
       "3  27.0      0      0   315154   8.6625   NaN        S  \n",
       "4  22.0      1      1  3101298  12.2875   NaN        S  "
      ]
     },
     "execution_count": 52,
     "metadata": {},
     "output_type": "execute_result"
    }
   ],
   "source": [
    "df2.head()"
   ]
  },
  {
   "cell_type": "markdown",
   "id": "strange-participation",
   "metadata": {},
   "source": [
    "Split df into two part and create X and y of each set"
   ]
  },
  {
   "cell_type": "code",
   "execution_count": 53,
   "id": "restricted-pacific",
   "metadata": {},
   "outputs": [],
   "source": [
    "train = df.iloc[:892,:]"
   ]
  },
  {
   "cell_type": "markdown",
   "id": "changed-value",
   "metadata": {},
   "source": [
    "According to Piazza question @103, we will only use trainning set because testing set have no 'survived' column"
   ]
  },
  {
   "cell_type": "code",
   "execution_count": 54,
   "id": "scenic-backup",
   "metadata": {},
   "outputs": [],
   "source": [
    "from sklearn.model_selection import train_test_split\n",
    "# using sklearn train test split to split new train test data"
   ]
  },
  {
   "cell_type": "code",
   "execution_count": 55,
   "id": "processed-consequence",
   "metadata": {},
   "outputs": [],
   "source": [
    "XTrain,XTest,yTrain,yTest = train_test_split(\n",
    "    train.drop('Survived',axis = 1),train['Survived'],test_size=0.2,random_state=11)"
   ]
  },
  {
   "cell_type": "markdown",
   "id": "outer-luxury",
   "metadata": {},
   "source": [
    "Now Select Model"
   ]
  },
  {
   "cell_type": "code",
   "execution_count": 56,
   "id": "placed-fantasy",
   "metadata": {},
   "outputs": [],
   "source": [
    "from sklearn.metrics import precision_recall_fscore_support"
   ]
  },
  {
   "cell_type": "code",
   "execution_count": 57,
   "id": "indian-adolescent",
   "metadata": {},
   "outputs": [],
   "source": [
    "from sklearn.linear_model import LogisticRegression"
   ]
  },
  {
   "cell_type": "markdown",
   "id": "adjacent-walker",
   "metadata": {},
   "source": [
    "This is a basic model which use logistic function (sigmoid) to map linear regression between 0-1. This offers it's ability to do classification problems. Normally it will use Maximum liklyhood with linear loss function to self justify it's parameters (free parameteres). This is a version with Cross validation, which will let this model learn more distribution information of our data."
   ]
  },
  {
   "cell_type": "code",
   "execution_count": 58,
   "id": "restricted-rehabilitation",
   "metadata": {},
   "outputs": [
    {
     "name": "stdout",
     "output_type": "stream",
     "text": [
      "Accuracy is: 0.8379888268156425\n",
      "Precision is: 0.8206075533661741\n",
      "Recall is: 0.8229942100909843\n",
      "F-Score is: 0.8217682403433476\n"
     ]
    }
   ],
   "source": [
    "model = LogisticRegression(random_state = 11)\n",
    "model.fit(XTrain,yTrain)\n",
    "yPred = model.predict(XTest)\n",
    "\n",
    "precision, recall, fScore,sup = precision_recall_fscore_support(yPred,yTest,average='macro')\n",
    "print(\"Accuracy is:\",(yPred==yTest).sum()/yTest.shape[0])\n",
    "print(\"Precision is:\",precision)\n",
    "print(\"Recall is:\",recall)\n",
    "print(\"F-Score is:\",fScore)"
   ]
  },
  {
   "cell_type": "code",
   "execution_count": 59,
   "id": "greenhouse-requirement",
   "metadata": {},
   "outputs": [],
   "source": [
    "from sklearn.naive_bayes import BernoulliNB"
   ]
  },
  {
   "cell_type": "markdown",
   "id": "fundamental-impact",
   "metadata": {},
   "source": [
    "This is another basic classcification model which base model is Naive Bayes. NB model is generative model which means it calculate each individual probability and then aggregate together at the end to get the final result. Fundimental property of BernoulliNB is the same but it's using a bionoimial form like function to select maximum likelyhood."
   ]
  },
  {
   "cell_type": "code",
   "execution_count": 60,
   "id": "alternative-naples",
   "metadata": {},
   "outputs": [
    {
     "name": "stdout",
     "output_type": "stream",
     "text": [
      "Accuracy is: 0.8156424581005587\n",
      "Precision is: 0.8214969896004378\n",
      "Recall is: 0.8001405212059274\n",
      "F-Score is: 0.8059524982753523\n"
     ]
    }
   ],
   "source": [
    "NB = BernoulliNB()\n",
    "NB.fit(XTrain,yTrain)\n",
    "yPred2 = NB.predict(XTest)\n",
    "\n",
    "precision2, recall2, fScore2,sup2 = precision_recall_fscore_support(yPred2,yTest,average='macro')\n",
    "print(\"Accuracy is:\",(yPred2==yTest).sum()/yTest.shape[0])\n",
    "print(\"Precision is:\",precision2)\n",
    "print(\"Recall is:\",recall2)\n",
    "print(\"F-Score is:\",fScore2)"
   ]
  },
  {
   "cell_type": "code",
   "execution_count": 61,
   "id": "substantial-parallel",
   "metadata": {},
   "outputs": [],
   "source": [
    "from sklearn.ensemble import RandomForestClassifier"
   ]
  },
  {
   "cell_type": "markdown",
   "id": "crude-breed",
   "metadata": {},
   "source": [
    "This is a RandomForest model. It's a hihger version of Decision Tree. The main idea of this model is to generate many decision trees and then aggregate them together like a forest (Bagging). This is model that can be apply to big data and working on high feature demention without demention reduction. Using Info Entropy to make decision. Entropy gets bigger when Xi is more uncertainty, otherwise small."
   ]
  },
  {
   "cell_type": "code",
   "execution_count": 62,
   "id": "secure-astronomy",
   "metadata": {},
   "outputs": [
    {
     "name": "stdout",
     "output_type": "stream",
     "text": [
      "Accuracy is: 0.8603351955307262\n",
      "Precision is: 0.8414750957854407\n",
      "Recall is: 0.8495098039215686\n",
      "F-Score is: 0.8451824943781352\n"
     ]
    }
   ],
   "source": [
    "RF = RandomForestClassifier(max_depth=4, random_state=11)\n",
    "RF.fit(XTrain,yTrain)\n",
    "yPred3 = RF.predict(XTest)\n",
    "\n",
    "precision3, recall3, fScore3,sup3 = precision_recall_fscore_support(yPred3,yTest,average='macro')\n",
    "print(\"Accuracy is:\",(yPred3==yTest).sum()/yTest.shape[0])\n",
    "print(\"Precision is:\",precision3)\n",
    "print(\"Recall is:\",recall3)\n",
    "print(\"F-Score is:\",fScore3)"
   ]
  },
  {
   "cell_type": "code",
   "execution_count": 63,
   "id": "linear-cookie",
   "metadata": {},
   "outputs": [],
   "source": [
    "from sklearn.ensemble import GradientBoostingClassifier"
   ]
  },
  {
   "cell_type": "markdown",
   "id": "sporting-walnut",
   "metadata": {},
   "source": [
    "This is a GradientBoosting model. Gradient Boosted Decision Trees (GBDT) is a generalization of boosting to arbitrary differentiable loss functions. GBDT is an accurate and effective off-the-shelf procedure that can be used for both regression and classification problems in a variety of areas including Web search ranking and ecology. Here I use the Classifier, which supports both binary and multi-class classification. And it's the model with the highest accuracy scores I found after trying lots of models and ways of tuning parameters."
   ]
  },
  {
   "cell_type": "code",
   "execution_count": 64,
   "id": "educational-integration",
   "metadata": {},
   "outputs": [
    {
     "name": "stdout",
     "output_type": "stream",
     "text": [
      "Accuracy is: 0.8770949720670391\n",
      "Precision is: 0.858032293377121\n",
      "Recall is: 0.8695621468926553\n",
      "F-Score is: 0.8632258960822451\n"
     ]
    }
   ],
   "source": [
    "PA = GradientBoostingClassifier(learning_rate=0.05,n_estimators=150)\n",
    "PA.fit(XTrain,yTrain)\n",
    "yPred4 = PA.predict(XTest)\n",
    "\n",
    "precision4, recall4, fScore4,sup4 = precision_recall_fscore_support(yPred4,yTest,average='macro')\n",
    "print(\"Accuracy is:\",(yPred4==yTest).sum()/yTest.shape[0])\n",
    "print(\"Precision is:\",precision4)\n",
    "print(\"Recall is:\",recall4)\n",
    "print(\"F-Score is:\",fScore4)"
   ]
  },
  {
   "cell_type": "code",
   "execution_count": null,
   "id": "specialized-blues",
   "metadata": {},
   "outputs": [],
   "source": []
  },
  {
   "cell_type": "code",
   "execution_count": null,
   "id": "surprised-north",
   "metadata": {},
   "outputs": [],
   "source": []
  }
 ],
 "metadata": {
  "kernelspec": {
   "display_name": "Python 3",
   "language": "python",
   "name": "python3"
  },
  "language_info": {
   "codemirror_mode": {
    "name": "ipython",
    "version": 3
   },
   "file_extension": ".py",
   "mimetype": "text/x-python",
   "name": "python",
   "nbconvert_exporter": "python",
   "pygments_lexer": "ipython3",
   "version": "3.7.6"
  }
 },
 "nbformat": 4,
 "nbformat_minor": 5
}
